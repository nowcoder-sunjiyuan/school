{
 "cells": [
  {
   "cell_type": "markdown",
   "source": [
    "# sun: tf.sequence_mask"
   ],
   "metadata": {
    "collapsed": false
   },
   "id": "cab99e3e405c2c80"
  },
  {
   "cell_type": "code",
   "execution_count": 4,
   "id": "initial_id",
   "metadata": {
    "collapsed": true,
    "ExecuteTime": {
     "end_time": "2024-05-21T16:14:51.560215800Z",
     "start_time": "2024-05-21T16:14:51.545737800Z"
    }
   },
   "outputs": [],
   "source": [
    "import tensorflow as tf\n",
    "from tensorflow import keras"
   ]
  },
  {
   "cell_type": "markdown",
   "source": [
    "https://blog.csdn.net/xinjieyuan/article/details/95760679 : 对sequence_mask进行讲解"
   ],
   "metadata": {
    "collapsed": false
   },
   "id": "882e87250da1b8fc"
  },
  {
   "cell_type": "code",
   "outputs": [
    {
     "name": "stdout",
     "output_type": "stream",
     "text": [
      "tf.Tensor(\n",
      "[[ True  True  True False False]\n",
      " [ True  True  True  True False]], shape=(2, 5), dtype=bool)\n",
      "tf.Tensor([[ True  True False False False]], shape=(1, 5), dtype=bool)\n",
      "tf.Tensor([[ True False False False False]], shape=(1, 5), dtype=bool)\n",
      "tf.Tensor([ True False False False False], shape=(5,), dtype=bool)\n"
     ]
    }
   ],
   "source": [
    "# 例子举得是，第一个参数length是代表nlp中每个句子的长度，然后生成的是，对每个句子的掩码\n",
    "# 第一个参数为列表：列表中每一个数字代表序列的长度\n",
    "# 第一个参数为数字，代表一个序列的长度\n",
    "print(tf.sequence_mask([3, 4], 5)) # 一个列表，有2个序列 mask：2 * 5 (2个序列，每个序列5个掩码)\n",
    "print(tf.sequence_mask([2], 5))  #  一个列表，有1个序列 mask：1 * 5\n",
    "print(tf.sequence_mask([1], 5))\n",
    "print(tf.sequence_mask(1, 5)) # 就一个序列，mask ： 5"
   ],
   "metadata": {
    "collapsed": false,
    "ExecuteTime": {
     "end_time": "2024-05-21T16:14:51.575667Z",
     "start_time": "2024-05-21T16:14:51.558183300Z"
    }
   },
   "id": "b26df7e5d842d90d",
   "execution_count": 5
  },
  {
   "cell_type": "markdown",
   "source": [
    "#### sequence_mask对tensor操作的理解\n",
    "input本身是一个特征数为1的输入层，样本就是 [x], 多个样本就类似于 [1], [2], [4] ...., 掩码后类似于，[[...(20位)]] 多个样本的掩码 [[...(20位)]], [[...(20位)]], ..... 所以input的形状是：none * 1，最后掩码的形状是 none * 1 * 20 ，每个样本，一个特征，这个特征20维度的掩码\n",
    "\n",
    "input 如果我们创建keras(2,)这代表这个输入层有两个特征，样本就是 [x, y], 多个样本就类似于 [1, 2], [3, 4], [5, 6]...., 掩码后类似于 [[...(20位)], [...(20位)]]\n",
    "所以input的形状：none * 2, 最后掩码的形状是：none * 2 * 20, 每个样本，2个特征，每个特征都有20维度的掩码"
   ],
   "metadata": {
    "collapsed": false
   },
   "id": "3135cceab9c96821"
  },
  {
   "cell_type": "code",
   "outputs": [
    {
     "name": "stdout",
     "output_type": "stream",
     "text": [
      "KerasTensor(type_spec=TensorSpec(shape=(None, 1), dtype=tf.int64, name='input'), name='input', description=\"created by layer 'input'\")\n",
      "KerasTensor(type_spec=TensorSpec(shape=(None, 1, 20), dtype=tf.float32, name=None), name='tf.sequence_mask_2/SequenceMask/Cast_1:0', description=\"created by layer 'tf.sequence_mask_2'\")\n",
      "KerasTensor(type_spec=TensorSpec(shape=(None, 2, 20), dtype=tf.float32, name=None), name='tf.sequence_mask_3/SequenceMask/Cast_1:0', description=\"created by layer 'tf.sequence_mask_3'\")\n"
     ]
    }
   ],
   "source": [
    "# 这是一个张量，维度是1, 代表了一个序列的长度\n",
    "input = keras.Input(shape=(1,), name='input', dtype=tf.int64)\n",
    "print(input)\n",
    "# 掩码长度维20的时候，生成的掩码张量形状为：[1, 20]\n",
    "input_sequence = tf.sequence_mask(input, maxlen=20, dtype=tf.float32)\n",
    "print(input_sequence)\n",
    "\n",
    "# 这是一个形状为[2, 4]的张量\n",
    "input = keras.Input(shape=(2,), name='input', dtype=tf.int64)\n",
    "input_sequence = tf.sequence_mask(input, maxlen=20, dtype=tf.float32)\n",
    "print(input_sequence)"
   ],
   "metadata": {
    "collapsed": false,
    "ExecuteTime": {
     "end_time": "2024-05-21T16:14:51.597155500Z",
     "start_time": "2024-05-21T16:14:51.574639400Z"
    }
   },
   "id": "e62a46f8a5538694",
   "execution_count": 6
  },
  {
   "cell_type": "code",
   "outputs": [],
   "source": [],
   "metadata": {
    "collapsed": false,
    "ExecuteTime": {
     "end_time": "2024-05-21T16:14:51.618623600Z",
     "start_time": "2024-05-21T16:14:51.588001600Z"
    }
   },
   "id": "4305b214dbc1008b",
   "execution_count": 6
  }
 ],
 "metadata": {
  "kernelspec": {
   "display_name": "Python 3",
   "language": "python",
   "name": "python3"
  },
  "language_info": {
   "codemirror_mode": {
    "name": "ipython",
    "version": 2
   },
   "file_extension": ".py",
   "mimetype": "text/x-python",
   "name": "python",
   "nbconvert_exporter": "python",
   "pygments_lexer": "ipython2",
   "version": "2.7.6"
  }
 },
 "nbformat": 4,
 "nbformat_minor": 5
}
