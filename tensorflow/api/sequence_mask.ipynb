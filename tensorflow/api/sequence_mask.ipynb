{
 "cells": [
  {
   "cell_type": "markdown",
   "source": [
    "# sun: tf.sequence_mask"
   ],
   "metadata": {
    "collapsed": false
   },
   "id": "cab99e3e405c2c80"
  },
  {
   "cell_type": "code",
   "execution_count": 4,
   "id": "initial_id",
   "metadata": {
    "collapsed": true,
    "ExecuteTime": {
     "end_time": "2024-05-15T03:52:05.606142700Z",
     "start_time": "2024-05-15T03:52:05.585166800Z"
    }
   },
   "outputs": [],
   "source": [
    "import tensorflow as tf\n",
    "from tensorflow import keras"
   ]
  },
  {
   "cell_type": "markdown",
   "source": [
    "https://blog.csdn.net/xinjieyuan/article/details/95760679 : 对sequence_mask进行讲解"
   ],
   "metadata": {
    "collapsed": false
   },
   "id": "882e87250da1b8fc"
  },
  {
   "cell_type": "code",
   "outputs": [
    {
     "name": "stdout",
     "output_type": "stream",
     "text": [
      "tf.Tensor(\n",
      "[[ True  True  True False False]\n",
      " [ True  True  True  True False]], shape=(2, 5), dtype=bool)\n",
      "tf.Tensor([[ True  True False False False]], shape=(1, 5), dtype=bool)\n",
      "tf.Tensor([[ True False False False False]], shape=(1, 5), dtype=bool)\n",
      "tf.Tensor([ True False False False False], shape=(5,), dtype=bool)\n"
     ]
    }
   ],
   "source": [
    "# 例子举得是，第一个参数length是代表nlp中每个句子的长度，然后生成的是，对每个句子的掩码\n",
    "print(tf.sequence_mask([3, 4], 5)) # 数据形状：1 * 2   mask：1 * 2 * 5\n",
    "print(tf.sequence_mask([2], 5))  # 数据形状：1 * 1 mask：1*1*5\n",
    "print(tf.sequence_mask([1], 5))\n",
    "print(tf.sequence_mask(1, 5))"
   ],
   "metadata": {
    "collapsed": false,
    "ExecuteTime": {
     "end_time": "2024-05-15T03:59:08.562796900Z",
     "start_time": "2024-05-15T03:59:08.551402400Z"
    }
   },
   "id": "b26df7e5d842d90d",
   "execution_count": 10
  },
  {
   "cell_type": "markdown",
   "source": [],
   "metadata": {
    "collapsed": false
   },
   "id": "3135cceab9c96821"
  },
  {
   "cell_type": "code",
   "outputs": [
    {
     "name": "stdout",
     "output_type": "stream",
     "text": [
      "KerasTensor(type_spec=TensorSpec(shape=(None, 1, 20), dtype=tf.float32, name=None), name='tf.sequence_mask_3/SequenceMask/Cast_1:0', description=\"created by layer 'tf.sequence_mask_3'\")\n",
      "KerasTensor(type_spec=TensorSpec(shape=(None, 2, 4, 20), dtype=tf.float32, name=None), name='tf.sequence_mask_4/SequenceMask/Cast_1:0', description=\"created by layer 'tf.sequence_mask_4'\")\n"
     ]
    }
   ],
   "source": [
    "# 这是一个张量，维度是1, 不管怎样，这还是个向量，而不是一个标量\n",
    "input = keras.Input(shape=(1,), name='input', dtype=tf.int64)\n",
    "# 掩码长度维20的时候，生成的掩码张量形状为：[1, 20]\n",
    "input_sequence = tf.sequence_mask(input, maxlen=20, dtype=tf.float32)\n",
    "print(input_sequence)\n",
    "\n",
    "# 这是一个形状为[2, 4]的张量\n",
    "input = keras.Input(shape=(2, 4), name='input', dtype=tf.int64)\n",
    "input_sequence = tf.sequence_mask(input, maxlen=20, dtype=tf.float32)\n",
    "print(input_sequence)"
   ],
   "metadata": {
    "collapsed": false,
    "ExecuteTime": {
     "end_time": "2024-05-15T03:53:16.483711Z",
     "start_time": "2024-05-15T03:53:16.468362300Z"
    }
   },
   "id": "e62a46f8a5538694",
   "execution_count": 8
  },
  {
   "cell_type": "code",
   "outputs": [],
   "source": [],
   "metadata": {
    "collapsed": false
   },
   "id": "4305b214dbc1008b"
  }
 ],
 "metadata": {
  "kernelspec": {
   "display_name": "Python 3",
   "language": "python",
   "name": "python3"
  },
  "language_info": {
   "codemirror_mode": {
    "name": "ipython",
    "version": 2
   },
   "file_extension": ".py",
   "mimetype": "text/x-python",
   "name": "python",
   "nbconvert_exporter": "python",
   "pygments_lexer": "ipython2",
   "version": "2.7.6"
  }
 },
 "nbformat": 4,
 "nbformat_minor": 5
}
