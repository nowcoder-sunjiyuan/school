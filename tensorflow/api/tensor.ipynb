{
 "cells": [
  {
   "cell_type": "code",
   "execution_count": 1,
   "id": "initial_id",
   "metadata": {
    "collapsed": true,
    "ExecuteTime": {
     "end_time": "2024-05-21T15:56:18.362300700Z",
     "start_time": "2024-05-21T15:56:17.217272Z"
    }
   },
   "outputs": [
    {
     "name": "stderr",
     "output_type": "stream",
     "text": [
      "Using TensorFlow backend.\n"
     ]
    }
   ],
   "source": [
    "import keras\n",
    "import tensorflow as tf\n",
    "from tensorflow import keras"
   ]
  },
  {
   "cell_type": "markdown",
   "source": [],
   "metadata": {
    "collapsed": false
   },
   "id": "cd29a4b16c538b2"
  },
  {
   "cell_type": "markdown",
   "source": [
    "## 对tensor的理解\n",
    "\n",
    "keras.Input(shape=(1,), name='input', dtype=tf.int64) 这行代码表示创建了一个名为 input 的输入层，这个输入层有一个特征，维度为 1 维，数据类型为整数（int64）。\n",
    "尽管维度是1维，但是在 TensorFlow 中，即使是一维的特征也需要被表示为张量，因此在这里使用了 (1,) 表示维度为1\n",
    "shape=(1,) 中的 1 表示这个特征的维度为1，而不是表示这个特征本身是一个向量。在这种情况下，每个样本只包含一个特征值。\n",
    "所以可以想象一个dataframe\n",
    "      特征1\n",
    "样本1   1\n",
    "样本2   2\n",
    "样本3   3\n",
    "...\n",
    "\n",
    "keras.Input(shape=(1,))代表的就是这样的输入层"
   ],
   "metadata": {
    "collapsed": false
   },
   "id": "165179fe0b1623f9"
  },
  {
   "cell_type": "markdown",
   "source": [
    "#### 所以在定义输入层时，是不知道样本数相关概念的对吧？\n",
    "在定义神经网络模型的输入层时，通常是不需要明确指定样本数量的。输入层的形状（shape）通常用来指定每个样本的特征数量，而样本的数量通常在训练时由输入数据的批次大小（batch size）确定。\n",
    "在训练神经网络时，您会将整个数据集分成批次（batches）来输入模型进行训练。每个批次中包含一定数量的样本，这个数量就是批次大小。因此，样本数量是由数据集中的样本总数和批次大小共同决定的。\n",
    "在定义神经网络模型时，您只需要关注每个样本的特征数量，而不需要显式地指定样本数量。样本数量在训练时会根据批次大小动态确定。"
   ],
   "metadata": {
    "collapsed": false
   },
   "id": "51aa4b428dd8fee5"
  },
  {
   "cell_type": "code",
   "outputs": [],
   "source": [
    "# shape(x,) 中x代表特征数，这个input代表有一个特征，每个样本只包含一个特征值\n",
    "input = keras.Input(shape=(1,), name='input', dtype=tf.int64)"
   ],
   "metadata": {
    "collapsed": false,
    "ExecuteTime": {
     "end_time": "2024-05-21T15:56:18.373685200Z",
     "start_time": "2024-05-21T15:56:18.359255600Z"
    }
   },
   "id": "791b94670992907a",
   "execution_count": 2
  },
  {
   "cell_type": "markdown",
   "source": [
    "#### keras.Input(shape=(2,))的理解\n",
    "keras.Input(shape=(2,), name='input', dtype=tf.int64) 这行代码表示创建了一个名为 input 的输入层，这个输入层有两个特征，每个特征的维度为 1 维，数据类型为整数（int64）。\n",
    "在这种情况下，每个样本有两个特征，每个特征都是一个单独的维度为1的向量。这种表示方式适用于许多机器学习模型，包括神经网络模型，其中每个样本可以包含多个特征。\n",
    "因此，shape=(2,) 中的 2 表示这个输入层有两个特征，每个特征的维度为1。这种方式适用于表示多特征的情况，每个特征都是一个单独的维度。\n",
    "所以可以想象一个dataframe\n",
    "      特征1  特征2\n",
    "样本1   1      2\n",
    "样本2   2      7\n",
    "样本3   3      8\n",
    "..."
   ],
   "metadata": {
    "collapsed": false
   },
   "id": "6bcbc1865f49866"
  },
  {
   "cell_type": "markdown",
   "source": [
    "#### feature_column转化特征\n",
    "在使用 keras.Input 定义输入层时，shape 参数中的第一个值表示特征的数量，而每个特征本身是一个一维向量。\n",
    "如果您使用 feature_column 将一个数字特征分桶成了6个桶，那么可以将这个数字特征转化为6个特征来输入模型。每个特征代表一个桶，每个特征是一个一维向量。\n",
    "例如，如果您有一个数字特征被分成了6个桶，您可以将这6个桶作为6个独立的特征输入到模型中，每个特征是一个一维向量，表示该特征的值。这种方式可以帮助模型更好地理解和利用原始数据的特征"
   ],
   "metadata": {
    "collapsed": false
   },
   "id": "1ea159e9da6a3610"
  },
  {
   "cell_type": "code",
   "outputs": [
    {
     "name": "stdout",
     "output_type": "stream",
     "text": [
      "tf.Tensor(\n",
      "[[0. 0. 1. 0. 0. 0.]\n",
      " [1. 0. 0. 0. 0. 0.]\n",
      " [0. 0. 1. 0. 0. 0.]\n",
      " [0. 0. 1. 0. 0. 0.]\n",
      " [0. 0. 0. 1. 0. 0.]\n",
      " [0. 0. 1. 0. 0. 0.]\n",
      " [0. 0. 0. 0. 1. 0.]\n",
      " [0. 0. 0. 0. 0. 1.]], shape=(8, 6), dtype=float32)\n"
     ]
    }
   ],
   "source": [
    "# a特征每个样本是一个数字\n",
    "data = {'a': [15, 9, 17, 19, 21, 18, 25, 30]}\n",
    "a = tf.feature_column.numeric_column('a')\n",
    "a_buckets = tf.feature_column.bucketized_column(a,\n",
    "   boundaries=[10, 15, 20, 25, 30])\n",
    "feature_layer1 = tf.keras.layers.DenseFeatures([a_buckets])\n",
    "## 这里一个特征转化为6个特征\n",
    "print(feature_layer1(data))    ## shape : 8 * 6"
   ],
   "metadata": {
    "collapsed": false,
    "ExecuteTime": {
     "end_time": "2024-05-21T15:56:18.397484100Z",
     "start_time": "2024-05-21T15:56:18.380994600Z"
    }
   },
   "id": "ee6f0a549900cc36",
   "execution_count": 3
  },
  {
   "cell_type": "markdown",
   "source": [],
   "metadata": {
    "collapsed": false
   },
   "id": "602038d66d726d18"
  },
  {
   "cell_type": "code",
   "outputs": [],
   "source": [],
   "metadata": {
    "collapsed": false
   },
   "id": "2e18bc0ce205c837"
  }
 ],
 "metadata": {
  "kernelspec": {
   "display_name": "Python 3",
   "language": "python",
   "name": "python3"
  },
  "language_info": {
   "codemirror_mode": {
    "name": "ipython",
    "version": 2
   },
   "file_extension": ".py",
   "mimetype": "text/x-python",
   "name": "python",
   "nbconvert_exporter": "python",
   "pygments_lexer": "ipython2",
   "version": "2.7.6"
  }
 },
 "nbformat": 4,
 "nbformat_minor": 5
}
