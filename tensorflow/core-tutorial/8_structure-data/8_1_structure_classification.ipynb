{
 "cells": [
  {
   "cell_type": "code",
   "execution_count": 2,
   "id": "initial_id",
   "metadata": {
    "collapsed": true,
    "ExecuteTime": {
     "end_time": "2024-05-06T14:14:52.774808900Z",
     "start_time": "2024-05-06T14:14:48.521402500Z"
    }
   },
   "outputs": [],
   "source": [
    "import numpy as np\n",
    "import pandas as pd\n",
    "\n",
    "import tensorflow as tf\n",
    "\n",
    "from tensorflow import feature_column\n",
    "from tensorflow.keras import layers\n",
    "from sklearn.model_selection import train_test_split"
   ]
  },
  {
   "cell_type": "code",
   "outputs": [
    {
     "name": "stdout",
     "output_type": "stream",
     "text": [
      "Downloading data from http://storage.googleapis.com/download.tensorflow.org/data/petfinder-mini.zip\n",
      "1671168/1668792 [==============================] - 1s 1us/step\n"
     ]
    }
   ],
   "source": [
    "import pathlib\n",
    "\n",
    "dataset_url = 'http://storage.googleapis.com/download.tensorflow.org/data/petfinder-mini.zip'\n",
    "csv_file = 'datasets/petfinder-mini/petfinder-mini.csv'\n",
    "\n",
    "tf.keras.utils.get_file('petfinder_mini.zip', dataset_url,\n",
    "                        extract=True, cache_dir='.')\n",
    "dataframe = pd.read_csv(csv_file)"
   ],
   "metadata": {
    "collapsed": false,
    "ExecuteTime": {
     "end_time": "2024-05-06T14:14:54.262993700Z",
     "start_time": "2024-05-06T14:14:52.775830600Z"
    }
   },
   "id": "c1a4098895ceda58",
   "execution_count": 3
  },
  {
   "cell_type": "code",
   "outputs": [
    {
     "name": "stdout",
     "output_type": "stream",
     "text": [
      "(11537, 15)\n"
     ]
    },
    {
     "data": {
      "text/plain": "  Type  Age                Breed1  Gender Color1    Color2 MaturitySize  \\\n0  Cat    3                 Tabby    Male  Black     White        Small   \n1  Cat    1  Domestic Medium Hair    Male  Black     Brown       Medium   \n2  Dog    1           Mixed Breed    Male  Brown     White       Medium   \n3  Dog    4           Mixed Breed  Female  Black     Brown       Medium   \n4  Dog    1           Mixed Breed    Male  Black  No Color       Medium   \n\n  FurLength Vaccinated Sterilized   Health  Fee  \\\n0     Short         No         No  Healthy  100   \n1    Medium   Not Sure   Not Sure  Healthy    0   \n2    Medium        Yes         No  Healthy    0   \n3     Short        Yes         No  Healthy  150   \n4     Short         No         No  Healthy    0   \n\n                                         Description  PhotoAmt  AdoptionSpeed  \n0  Nibble is a 3+ month old ball of cuteness. He ...         1              2  \n1  I just found it alone yesterday near my apartm...         2              0  \n2  Their pregnant mother was dumped by her irresp...         7              3  \n3  Good guard dog, very alert, active, obedience ...         8              2  \n4  This handsome yet cute boy is up for adoption....         3              2  ",
      "text/html": "<div>\n<style scoped>\n    .dataframe tbody tr th:only-of-type {\n        vertical-align: middle;\n    }\n\n    .dataframe tbody tr th {\n        vertical-align: top;\n    }\n\n    .dataframe thead th {\n        text-align: right;\n    }\n</style>\n<table border=\"1\" class=\"dataframe\">\n  <thead>\n    <tr style=\"text-align: right;\">\n      <th></th>\n      <th>Type</th>\n      <th>Age</th>\n      <th>Breed1</th>\n      <th>Gender</th>\n      <th>Color1</th>\n      <th>Color2</th>\n      <th>MaturitySize</th>\n      <th>FurLength</th>\n      <th>Vaccinated</th>\n      <th>Sterilized</th>\n      <th>Health</th>\n      <th>Fee</th>\n      <th>Description</th>\n      <th>PhotoAmt</th>\n      <th>AdoptionSpeed</th>\n    </tr>\n  </thead>\n  <tbody>\n    <tr>\n      <th>0</th>\n      <td>Cat</td>\n      <td>3</td>\n      <td>Tabby</td>\n      <td>Male</td>\n      <td>Black</td>\n      <td>White</td>\n      <td>Small</td>\n      <td>Short</td>\n      <td>No</td>\n      <td>No</td>\n      <td>Healthy</td>\n      <td>100</td>\n      <td>Nibble is a 3+ month old ball of cuteness. He ...</td>\n      <td>1</td>\n      <td>2</td>\n    </tr>\n    <tr>\n      <th>1</th>\n      <td>Cat</td>\n      <td>1</td>\n      <td>Domestic Medium Hair</td>\n      <td>Male</td>\n      <td>Black</td>\n      <td>Brown</td>\n      <td>Medium</td>\n      <td>Medium</td>\n      <td>Not Sure</td>\n      <td>Not Sure</td>\n      <td>Healthy</td>\n      <td>0</td>\n      <td>I just found it alone yesterday near my apartm...</td>\n      <td>2</td>\n      <td>0</td>\n    </tr>\n    <tr>\n      <th>2</th>\n      <td>Dog</td>\n      <td>1</td>\n      <td>Mixed Breed</td>\n      <td>Male</td>\n      <td>Brown</td>\n      <td>White</td>\n      <td>Medium</td>\n      <td>Medium</td>\n      <td>Yes</td>\n      <td>No</td>\n      <td>Healthy</td>\n      <td>0</td>\n      <td>Their pregnant mother was dumped by her irresp...</td>\n      <td>7</td>\n      <td>3</td>\n    </tr>\n    <tr>\n      <th>3</th>\n      <td>Dog</td>\n      <td>4</td>\n      <td>Mixed Breed</td>\n      <td>Female</td>\n      <td>Black</td>\n      <td>Brown</td>\n      <td>Medium</td>\n      <td>Short</td>\n      <td>Yes</td>\n      <td>No</td>\n      <td>Healthy</td>\n      <td>150</td>\n      <td>Good guard dog, very alert, active, obedience ...</td>\n      <td>8</td>\n      <td>2</td>\n    </tr>\n    <tr>\n      <th>4</th>\n      <td>Dog</td>\n      <td>1</td>\n      <td>Mixed Breed</td>\n      <td>Male</td>\n      <td>Black</td>\n      <td>No Color</td>\n      <td>Medium</td>\n      <td>Short</td>\n      <td>No</td>\n      <td>No</td>\n      <td>Healthy</td>\n      <td>0</td>\n      <td>This handsome yet cute boy is up for adoption....</td>\n      <td>3</td>\n      <td>2</td>\n    </tr>\n  </tbody>\n</table>\n</div>"
     },
     "execution_count": 4,
     "metadata": {},
     "output_type": "execute_result"
    }
   ],
   "source": [
    "print(dataframe.shape)\n",
    "dataframe.head()"
   ],
   "metadata": {
    "collapsed": false,
    "ExecuteTime": {
     "end_time": "2024-05-06T14:14:54.283821800Z",
     "start_time": "2024-05-06T14:14:54.266113200Z"
    }
   },
   "id": "a4aec17bac140d44",
   "execution_count": 4
  },
  {
   "cell_type": "markdown",
   "source": [
    "列\t描述\t特征类型\t数据类型\n",
    "Type\t动物类型（狗、猫）\t分类\t字符串\n",
    "Age\t宠物年龄\t数值\t整数\n",
    "Breed1\t宠物的主要品种\t分类\t字符串\n",
    "Color1\t宠物的颜色 1\t分类\t字符串\n",
    "Color2\t宠物的颜色 2\t分类\t字符串\n",
    "MaturitySize\t成年个体大小\t分类\t字符串\n",
    "FurLength\t毛发长度\t分类\t字符串\n",
    "Vaccinated\t宠物已接种疫苗\t分类\t字符串\n",
    "Sterilized\t宠物已绝育\t分类\t字符串\n",
    "Health\t健康状况\t分类\t字符串\n",
    "Fee\t领养费\t数值\t整数\n",
    "Description\t关于此宠物的简介\t文本\t字符串\n",
    "PhotoAmt\t为该宠物上传的照片总数\t数值\t整数\n",
    "AdoptionSpeed\t领养速度\t分类\t整数"
   ],
   "metadata": {
    "collapsed": false
   },
   "id": "640452d9a7333991"
  },
  {
   "cell_type": "markdown",
   "source": [
    "## 构造数据"
   ],
   "metadata": {
    "collapsed": false
   },
   "id": "5c820d1794d03e22"
  },
  {
   "cell_type": "code",
   "outputs": [],
   "source": [
    "# In the original dataset \"4\" indicates the pet was not adopted. 4表示未被领养\n",
    "# np.where 像推导式\n",
    "dataframe['target'] = np.where(dataframe['AdoptionSpeed']==4, 0, 1)\n",
    "\n",
    "# Drop un-used columns.\n",
    "dataframe = dataframe.drop(columns=['AdoptionSpeed', 'Description'])"
   ],
   "metadata": {
    "collapsed": false,
    "ExecuteTime": {
     "end_time": "2024-05-06T16:49:36.994196700Z",
     "start_time": "2024-05-06T16:49:36.981787Z"
    }
   },
   "id": "fa7e7b243c61ee3f",
   "execution_count": 13
  },
  {
   "cell_type": "markdown",
   "source": [
    "## 划分数据集"
   ],
   "metadata": {
    "collapsed": false
   },
   "id": "5f398fd0ae88781e"
  },
  {
   "cell_type": "code",
   "outputs": [
    {
     "name": "stdout",
     "output_type": "stream",
     "text": [
      "7383 train examples\n",
      "1846 validation examples\n",
      "2308 test examples\n"
     ]
    }
   ],
   "source": [
    "# 5分之1的测试集，如果不设置默认是0.25\n",
    "# 验证集是什么？\n",
    "train, test = train_test_split(dataframe, test_size=0.2)\n",
    "train, val = train_test_split(train, test_size=0.2)\n",
    "print(len(train), 'train examples')\n",
    "print(len(val), 'validation examples')\n",
    "print(len(test), 'test examples')"
   ],
   "metadata": {
    "collapsed": false,
    "ExecuteTime": {
     "end_time": "2024-05-06T16:49:42.505025800Z",
     "start_time": "2024-05-06T16:49:42.464072Z"
    }
   },
   "id": "9c2bd8e46fa02dd8",
   "execution_count": 14
  },
  {
   "cell_type": "markdown",
   "source": [
    "## 解包，zip()与dict()"
   ],
   "metadata": {
    "collapsed": false
   },
   "id": "6e992b13d5385720"
  },
  {
   "cell_type": "code",
   "outputs": [
    {
     "name": "stdout",
     "output_type": "stream",
     "text": [
      "(1, 'a') (2, 'b') (3, 'c')\n",
      "[1, 2] [3, 4] [5, 6]\n",
      "[((1, 'a'), [1, 2]), ((2, 'b'), [3, 4]), ((3, 'c'), [5, 6])]\n",
      "[(1, 2, 3), ('a', 'b', 'c')]\n",
      "dict:\n",
      "{'a': 'a', 'b': 'b', 't': 't'}\n",
      "{'one': 1, 'two': 2, 'three': 3}\n",
      "{'one': 1, 'two': 2, 'three': 3}\n",
      "{'x': 1, 'y': 2, 'z': 3}\n"
     ]
    }
   ],
   "source": [
    "## 数组解包\n",
    "a = [(1, 'a'), (2, 'b'), (3, 'c')]\n",
    "print(*a)\n",
    "\n",
    "## 元组解包\n",
    "b = ([1, 2], [3, 4], [5, 6])\n",
    "print(*b)\n",
    "\n",
    "## zip迭代, 用迭代器，迭代a，b，然后每次迭代的东西组成一个元组\n",
    "print(list(zip(a, b)))\n",
    "\n",
    "## zip迭代，zip(*)，解包后迭代, 解包后可以理解成三个参数，等同于 zip((1, 'a'), (2, 'b'), (3, 'c'))\n",
    "print(list(zip(*a))) \n",
    "\n",
    "## dict创建一个字典 (https://www.runoob.com/python/python-func-dict.html),参数有三种\n",
    "## 其实如果是一个对象的话，会调用对象的 __dict__和，to_dict()进行转换成dict\n",
    "print('dict:')\n",
    "# 映射对象 也就是 a=b这种\n",
    "print(dict(a='a', b='b', t='t'))\n",
    "print(dict(zip(['one', 'two', 'three'], (1, 2, 3))))  # 这里的zip在进行两个遍历\n",
    "# 可遍历对象，遍历对象中必须只有两个元素\n",
    "print(dict([('one', 1), ('two', 2), ('three', 3)]))\n",
    "# dict([('one', 1, 2), ('two', 2, 3), ('three', 3, 4)]) # dictionary update sequence element #0 has length 3; 2 is required\n",
    "print(dict(list(zip(['x', 'y', 'z'], [1, 2, 3])))) #zip两个进行遍历，list转换成了列表，这里进行的是可遍历对象"
   ],
   "metadata": {
    "collapsed": false,
    "ExecuteTime": {
     "end_time": "2024-05-06T16:39:42.013635500Z",
     "start_time": "2024-05-06T16:39:41.997111400Z"
    }
   },
   "id": "c8bbd71229972f8d",
   "execution_count": 11
  },
  {
   "cell_type": "markdown",
   "source": [
    "## 创建输入流水线"
   ],
   "metadata": {
    "collapsed": false
   },
   "id": "351a3055566ba2fb"
  },
  {
   "cell_type": "code",
   "outputs": [
    {
     "name": "stdout",
     "output_type": "stream",
     "text": [
      "a\n",
      "b\n",
      "[({'Type': <tf.Tensor: shape=(), dtype=string, numpy=b'Cat'>, 'Age': <tf.Tensor: shape=(), dtype=int64, numpy=3>, 'Breed1': <tf.Tensor: shape=(), dtype=string, numpy=b'Tabby'>, 'Gender': <tf.Tensor: shape=(), dtype=string, numpy=b'Male'>, 'Color1': <tf.Tensor: shape=(), dtype=string, numpy=b'Black'>, 'Color2': <tf.Tensor: shape=(), dtype=string, numpy=b'White'>, 'MaturitySize': <tf.Tensor: shape=(), dtype=string, numpy=b'Small'>, 'FurLength': <tf.Tensor: shape=(), dtype=string, numpy=b'Short'>, 'Vaccinated': <tf.Tensor: shape=(), dtype=string, numpy=b'No'>, 'Sterilized': <tf.Tensor: shape=(), dtype=string, numpy=b'No'>, 'Health': <tf.Tensor: shape=(), dtype=string, numpy=b'Healthy'>, 'Fee': <tf.Tensor: shape=(), dtype=int64, numpy=100>, 'PhotoAmt': <tf.Tensor: shape=(), dtype=int64, numpy=1>}, <tf.Tensor: shape=(), dtype=int32, numpy=1>)]\n"
     ]
    }
   ],
   "source": [
    "# 先测验一下数据输出\n",
    "test_dataframe = dataframe.copy()\n",
    "# 取出的是一个列\n",
    "# debug后会发现，dataframe是一个表格，series是一个列，dataframe是一堆的series组成的\n",
    "test_labels = test_dataframe.pop('target')\n",
    "\n",
    "# dict的遍历\n",
    "my_dict = {'a': 1, 'b': 2}\n",
    "for key in my_dict:\n",
    "    print(key)\n",
    "    \n",
    "# 会调用对象的to_dict()方法进行转换成dict，这是chargpt说的，此处用的并不是迭代特性\n",
    "# print(dict(dataframe))\n",
    "\n",
    "# from_tensor_slices可以去看，tf_data.ipynb, 在这里对每个可迭代的\n",
    "# dataset = tf.data.Dataset.from_tensor_slices(({\"a\": [1, 2], \"b\": [3, 4]}, {\"c\": [5, 6]}))\n",
    "# print(list(dataset.as_numpy_iterator()))\n",
    "\n",
    "# 这个参数是元组，就是对每一项进行拆分，最后合成元组，拆分后每一项都这个结构：{a=1, b=2, c=3}, label[i]\n",
    "ds = tf.data.Dataset.from_tensor_slices((dict(test_dataframe), test_labels))\n",
    "print(list(ds)[:1])\n",
    "\n",
    "# A utility method to create a tf.data dataset from a Pandas Dataframe\n",
    "def df_to_dataset(dataframe, shuffle=True, batch_size=32):\n",
    "  dataframe = dataframe.copy()\n",
    "  labels = dataframe.pop('target')\n",
    "  ds = tf.data.Dataset.from_tensor_slices((dict(dataframe), labels))\n",
    "  if shuffle:\n",
    "    ds = ds.shuffle(buffer_size=len(dataframe))\n",
    "  ds = ds.batch(batch_size)\n",
    "  return ds\n"
   ],
   "metadata": {
    "collapsed": false,
    "ExecuteTime": {
     "end_time": "2024-05-06T17:42:44.795559300Z",
     "start_time": "2024-05-06T17:42:43.590960600Z"
    }
   },
   "id": "12fe2c87e77f7035",
   "execution_count": 28
  },
  {
   "cell_type": "code",
   "outputs": [],
   "source": [],
   "metadata": {
    "collapsed": false,
    "ExecuteTime": {
     "end_time": "2024-05-06T16:50:47.041553700Z",
     "start_time": "2024-05-06T16:50:47.033275Z"
    }
   },
   "id": "3ba67690de297f33",
   "execution_count": 17
  }
 ],
 "metadata": {
  "kernelspec": {
   "display_name": "Python 3",
   "language": "python",
   "name": "python3"
  },
  "language_info": {
   "codemirror_mode": {
    "name": "ipython",
    "version": 2
   },
   "file_extension": ".py",
   "mimetype": "text/x-python",
   "name": "python",
   "nbconvert_exporter": "python",
   "pygments_lexer": "ipython2",
   "version": "2.7.6"
  }
 },
 "nbformat": 4,
 "nbformat_minor": 5
}
