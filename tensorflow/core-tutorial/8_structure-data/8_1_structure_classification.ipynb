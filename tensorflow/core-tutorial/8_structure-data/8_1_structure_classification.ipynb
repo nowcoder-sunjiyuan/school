{
 "cells": [
  {
   "cell_type": "code",
   "execution_count": 1,
   "id": "initial_id",
   "metadata": {
    "collapsed": true,
    "jupyter": {
     "outputs_hidden": true
    },
    "ExecuteTime": {
     "end_time": "2024-05-08T23:38:55.686713300Z",
     "start_time": "2024-05-08T23:38:53.052455800Z"
    }
   },
   "outputs": [],
   "source": [
    "import numpy as np\n",
    "import pandas as pd\n",
    "\n",
    "import tensorflow as tf\n",
    "\n",
    "from tensorflow import feature_column\n",
    "from tensorflow.keras import layers\n",
    "from sklearn.model_selection import train_test_split"
   ]
  },
  {
   "cell_type": "code",
   "execution_count": 2,
   "id": "c1a4098895ceda58",
   "metadata": {
    "collapsed": false,
    "ExecuteTime": {
     "end_time": "2024-05-08T23:38:55.762882200Z",
     "start_time": "2024-05-08T23:38:55.686713300Z"
    }
   },
   "outputs": [],
   "source": [
    "import pathlib\n",
    "\n",
    "dataset_url = 'http://storage.googleapis.com/download.tensorflow.org/data/petfinder-mini.zip'\n",
    "csv_file = 'datasets/petfinder-mini/petfinder-mini.csv'\n",
    "\n",
    "tf.keras.utils.get_file('petfinder_mini.zip', dataset_url,\n",
    "                        extract=True, cache_dir='.')\n",
    "dataframe = pd.read_csv(csv_file)"
   ]
  },
  {
   "cell_type": "code",
   "execution_count": 3,
   "id": "a4aec17bac140d44",
   "metadata": {
    "collapsed": false,
    "ExecuteTime": {
     "end_time": "2024-05-08T23:38:55.779001Z",
     "start_time": "2024-05-08T23:38:55.763467900Z"
    }
   },
   "outputs": [
    {
     "name": "stdout",
     "output_type": "stream",
     "text": [
      "(11537, 15)\n"
     ]
    },
    {
     "data": {
      "text/plain": "  Type  Age                Breed1  Gender Color1    Color2 MaturitySize  \\\n0  Cat    3                 Tabby    Male  Black     White        Small   \n1  Cat    1  Domestic Medium Hair    Male  Black     Brown       Medium   \n2  Dog    1           Mixed Breed    Male  Brown     White       Medium   \n3  Dog    4           Mixed Breed  Female  Black     Brown       Medium   \n4  Dog    1           Mixed Breed    Male  Black  No Color       Medium   \n\n  FurLength Vaccinated Sterilized   Health  Fee  \\\n0     Short         No         No  Healthy  100   \n1    Medium   Not Sure   Not Sure  Healthy    0   \n2    Medium        Yes         No  Healthy    0   \n3     Short        Yes         No  Healthy  150   \n4     Short         No         No  Healthy    0   \n\n                                         Description  PhotoAmt  AdoptionSpeed  \n0  Nibble is a 3+ month old ball of cuteness. He ...         1              2  \n1  I just found it alone yesterday near my apartm...         2              0  \n2  Their pregnant mother was dumped by her irresp...         7              3  \n3  Good guard dog, very alert, active, obedience ...         8              2  \n4  This handsome yet cute boy is up for adoption....         3              2  ",
      "text/html": "<div>\n<style scoped>\n    .dataframe tbody tr th:only-of-type {\n        vertical-align: middle;\n    }\n\n    .dataframe tbody tr th {\n        vertical-align: top;\n    }\n\n    .dataframe thead th {\n        text-align: right;\n    }\n</style>\n<table border=\"1\" class=\"dataframe\">\n  <thead>\n    <tr style=\"text-align: right;\">\n      <th></th>\n      <th>Type</th>\n      <th>Age</th>\n      <th>Breed1</th>\n      <th>Gender</th>\n      <th>Color1</th>\n      <th>Color2</th>\n      <th>MaturitySize</th>\n      <th>FurLength</th>\n      <th>Vaccinated</th>\n      <th>Sterilized</th>\n      <th>Health</th>\n      <th>Fee</th>\n      <th>Description</th>\n      <th>PhotoAmt</th>\n      <th>AdoptionSpeed</th>\n    </tr>\n  </thead>\n  <tbody>\n    <tr>\n      <th>0</th>\n      <td>Cat</td>\n      <td>3</td>\n      <td>Tabby</td>\n      <td>Male</td>\n      <td>Black</td>\n      <td>White</td>\n      <td>Small</td>\n      <td>Short</td>\n      <td>No</td>\n      <td>No</td>\n      <td>Healthy</td>\n      <td>100</td>\n      <td>Nibble is a 3+ month old ball of cuteness. He ...</td>\n      <td>1</td>\n      <td>2</td>\n    </tr>\n    <tr>\n      <th>1</th>\n      <td>Cat</td>\n      <td>1</td>\n      <td>Domestic Medium Hair</td>\n      <td>Male</td>\n      <td>Black</td>\n      <td>Brown</td>\n      <td>Medium</td>\n      <td>Medium</td>\n      <td>Not Sure</td>\n      <td>Not Sure</td>\n      <td>Healthy</td>\n      <td>0</td>\n      <td>I just found it alone yesterday near my apartm...</td>\n      <td>2</td>\n      <td>0</td>\n    </tr>\n    <tr>\n      <th>2</th>\n      <td>Dog</td>\n      <td>1</td>\n      <td>Mixed Breed</td>\n      <td>Male</td>\n      <td>Brown</td>\n      <td>White</td>\n      <td>Medium</td>\n      <td>Medium</td>\n      <td>Yes</td>\n      <td>No</td>\n      <td>Healthy</td>\n      <td>0</td>\n      <td>Their pregnant mother was dumped by her irresp...</td>\n      <td>7</td>\n      <td>3</td>\n    </tr>\n    <tr>\n      <th>3</th>\n      <td>Dog</td>\n      <td>4</td>\n      <td>Mixed Breed</td>\n      <td>Female</td>\n      <td>Black</td>\n      <td>Brown</td>\n      <td>Medium</td>\n      <td>Short</td>\n      <td>Yes</td>\n      <td>No</td>\n      <td>Healthy</td>\n      <td>150</td>\n      <td>Good guard dog, very alert, active, obedience ...</td>\n      <td>8</td>\n      <td>2</td>\n    </tr>\n    <tr>\n      <th>4</th>\n      <td>Dog</td>\n      <td>1</td>\n      <td>Mixed Breed</td>\n      <td>Male</td>\n      <td>Black</td>\n      <td>No Color</td>\n      <td>Medium</td>\n      <td>Short</td>\n      <td>No</td>\n      <td>No</td>\n      <td>Healthy</td>\n      <td>0</td>\n      <td>This handsome yet cute boy is up for adoption....</td>\n      <td>3</td>\n      <td>2</td>\n    </tr>\n  </tbody>\n</table>\n</div>"
     },
     "execution_count": 3,
     "metadata": {},
     "output_type": "execute_result"
    }
   ],
   "source": [
    "print(dataframe.shape)\n",
    "dataframe.head()"
   ]
  },
  {
   "cell_type": "markdown",
   "id": "640452d9a7333991",
   "metadata": {
    "collapsed": false
   },
   "source": [
    "列\t描述\t特征类型\t数据类型\n",
    "Type\t动物类型（狗、猫）\t分类\t字符串\n",
    "Age\t宠物年龄\t数值\t整数\n",
    "Breed1\t宠物的主要品种\t分类\t字符串\n",
    "Color1\t宠物的颜色 1\t分类\t字符串\n",
    "Color2\t宠物的颜色 2\t分类\t字符串\n",
    "MaturitySize\t成年个体大小\t分类\t字符串\n",
    "FurLength\t毛发长度\t分类\t字符串\n",
    "Vaccinated\t宠物已接种疫苗\t分类\t字符串\n",
    "Sterilized\t宠物已绝育\t分类\t字符串\n",
    "Health\t健康状况\t分类\t字符串\n",
    "Fee\t领养费\t数值\t整数\n",
    "Description\t关于此宠物的简介\t文本\t字符串\n",
    "PhotoAmt\t为该宠物上传的照片总数\t数值\t整数\n",
    "AdoptionSpeed\t领养速度\t分类\t整数"
   ]
  },
  {
   "cell_type": "markdown",
   "id": "5c820d1794d03e22",
   "metadata": {
    "collapsed": false
   },
   "source": [
    "## 构造数据"
   ]
  },
  {
   "cell_type": "code",
   "execution_count": 4,
   "id": "fa7e7b243c61ee3f",
   "metadata": {
    "collapsed": false,
    "ExecuteTime": {
     "end_time": "2024-05-08T23:38:55.811987800Z",
     "start_time": "2024-05-08T23:38:55.778527600Z"
    }
   },
   "outputs": [],
   "source": [
    "# In the original dataset \"4\" indicates the pet was not adopted. 4表示未被领养\n",
    "# np.where 像推导式\n",
    "dataframe['target'] = np.where(dataframe['AdoptionSpeed']==4, 0, 1)\n",
    "\n",
    "# Drop un-used columns.\n",
    "dataframe = dataframe.drop(columns=['AdoptionSpeed', 'Description'])"
   ]
  },
  {
   "cell_type": "markdown",
   "id": "5f398fd0ae88781e",
   "metadata": {
    "collapsed": false
   },
   "source": [
    "## 划分数据集"
   ]
  },
  {
   "cell_type": "code",
   "execution_count": 5,
   "id": "9c2bd8e46fa02dd8",
   "metadata": {
    "collapsed": false,
    "ExecuteTime": {
     "end_time": "2024-05-08T23:38:55.826420500Z",
     "start_time": "2024-05-08T23:38:55.797283200Z"
    }
   },
   "outputs": [
    {
     "name": "stdout",
     "output_type": "stream",
     "text": [
      "7383 train examples\n",
      "1846 validation examples\n",
      "2308 test examples\n"
     ]
    }
   ],
   "source": [
    "# 5分之1的测试集，如果不设置默认是0.25\n",
    "# 验证集是什么？\n",
    "train, test = train_test_split(dataframe, test_size=0.2)\n",
    "train, val = train_test_split(train, test_size=0.2)\n",
    "print(len(train), 'train examples')\n",
    "print(len(val), 'validation examples')\n",
    "print(len(test), 'test examples')"
   ]
  },
  {
   "cell_type": "markdown",
   "id": "6e992b13d5385720",
   "metadata": {
    "collapsed": false
   },
   "source": [
    "## 解包，zip()与dict()"
   ]
  },
  {
   "cell_type": "code",
   "execution_count": 6,
   "id": "c8bbd71229972f8d",
   "metadata": {
    "collapsed": false,
    "ExecuteTime": {
     "end_time": "2024-05-08T23:38:55.911553200Z",
     "start_time": "2024-05-08T23:38:55.813087200Z"
    }
   },
   "outputs": [
    {
     "name": "stdout",
     "output_type": "stream",
     "text": [
      "a解包 (1, 'a') (2, 'b') (3, 'c')\n",
      "b解包 [1, 2] [3, 4] [5, 6]\n",
      "zip迭代 [(1, 4), (2, 5), (3, 6)]\n",
      "[((1, 'a'),), ((2, 'b'),), ((3, 'c'),)]\n",
      "[((1, 'a'), [1, 2]), ((2, 'b'), [3, 4]), ((3, 'c'), [5, 6])]\n",
      "[(1, 2, 3), ('a', 'b', 'c')]\n",
      "dict:\n",
      "{'a': 'a', 'b': 'b', 't': 't'}\n",
      "{'one': 1, 'two': 2, 'three': 3}\n",
      "{'one': 1, 'two': 2, 'three': 3}\n",
      "{'x': 1, 'y': 2, 'z': 3}\n"
     ]
    }
   ],
   "source": [
    "## 数组解包\n",
    "a = [(1, 'a'), (2, 'b'), (3, 'c')]\n",
    "print(\"a解包\", *a)\n",
    "\n",
    "## 元组解包\n",
    "b = ([1, 2], [3, 4], [5, 6])\n",
    "print('b解包', *b)\n",
    "\n",
    "# zip() 函数用于将可迭代的对象作为参数，将对象中对应的元素打包成一个个元组，然后返回由这些元组组成的列表。\n",
    "print('zip迭代', list(zip([1,2,3], (4,5,6))))\n",
    "print(list(zip(a)))\n",
    "## zip迭代, 用迭代器，迭代a，b，然后每次迭代的东西组成一个元组\n",
    "print(list(zip(a, b)))\n",
    "\n",
    "## zip迭代，zip(*)，解包后迭代, 解包后可以理解成三个参数，等同于 zip((1, 'a'), (2, 'b'), (3, 'c'))\n",
    "print(list(zip(*a))) \n",
    "\n",
    "## dict创建一个字典 (https://www.runoob.com/python/python-func-dict.html),参数有三种\n",
    "## 其实如果是一个对象的话，会调用对象的 __dict__和，to_dict()进行转换成dict\n",
    "print('dict:')\n",
    "# 映射对象 也就是 a=b这种\n",
    "print(dict(a='a', b='b', t='t'))\n",
    "print(dict(zip(['one', 'two', 'three'], (1, 2, 3))))  # 这里的zip在进行两个遍历\n",
    "# 可遍历对象，遍历对象中必须只有两个元素\n",
    "print(dict([('one', 1), ('two', 2), ('three', 3)]))\n",
    "# dict([('one', 1, 2), ('two', 2, 3), ('three', 3, 4)]) # dictionary update sequence element #0 has length 3; 2 is required\n",
    "print(dict(list(zip(['x', 'y', 'z'], [1, 2, 3])))) #zip两个进行遍历，list转换成了列表，这里进行的是可遍历对象"
   ]
  },
  {
   "cell_type": "markdown",
   "id": "351a3055566ba2fb",
   "metadata": {
    "collapsed": false
   },
   "source": [
    "## 创建输入流水线"
   ]
  },
  {
   "cell_type": "code",
   "execution_count": 7,
   "id": "12fe2c87e77f7035",
   "metadata": {
    "collapsed": false,
    "ExecuteTime": {
     "end_time": "2024-05-08T23:38:57.573419600Z",
     "start_time": "2024-05-08T23:38:55.830543400Z"
    }
   },
   "outputs": [
    {
     "name": "stdout",
     "output_type": "stream",
     "text": [
      "a\n",
      "b\n",
      "[({'Type': <tf.Tensor: shape=(), dtype=string, numpy=b'Cat'>, 'Age': <tf.Tensor: shape=(), dtype=int64, numpy=3>, 'Breed1': <tf.Tensor: shape=(), dtype=string, numpy=b'Tabby'>, 'Gender': <tf.Tensor: shape=(), dtype=string, numpy=b'Male'>, 'Color1': <tf.Tensor: shape=(), dtype=string, numpy=b'Black'>, 'Color2': <tf.Tensor: shape=(), dtype=string, numpy=b'White'>, 'MaturitySize': <tf.Tensor: shape=(), dtype=string, numpy=b'Small'>, 'FurLength': <tf.Tensor: shape=(), dtype=string, numpy=b'Short'>, 'Vaccinated': <tf.Tensor: shape=(), dtype=string, numpy=b'No'>, 'Sterilized': <tf.Tensor: shape=(), dtype=string, numpy=b'No'>, 'Health': <tf.Tensor: shape=(), dtype=string, numpy=b'Healthy'>, 'Fee': <tf.Tensor: shape=(), dtype=int64, numpy=100>, 'PhotoAmt': <tf.Tensor: shape=(), dtype=int64, numpy=1>}, <tf.Tensor: shape=(), dtype=int32, numpy=1>)]\n",
      "------------------------------------------------------------------------\n",
      "[({'Type': <tf.Tensor: shape=(3,), dtype=string, numpy=array([b'Cat', b'Cat', b'Dog'], dtype=object)>, 'Age': <tf.Tensor: shape=(3,), dtype=int64, numpy=array([3, 1, 1], dtype=int64)>, 'Breed1': <tf.Tensor: shape=(3,), dtype=string, numpy=array([b'Tabby', b'Domestic Medium Hair', b'Mixed Breed'], dtype=object)>, 'Gender': <tf.Tensor: shape=(3,), dtype=string, numpy=array([b'Male', b'Male', b'Male'], dtype=object)>, 'Color1': <tf.Tensor: shape=(3,), dtype=string, numpy=array([b'Black', b'Black', b'Brown'], dtype=object)>, 'Color2': <tf.Tensor: shape=(3,), dtype=string, numpy=array([b'White', b'Brown', b'White'], dtype=object)>, 'MaturitySize': <tf.Tensor: shape=(3,), dtype=string, numpy=array([b'Small', b'Medium', b'Medium'], dtype=object)>, 'FurLength': <tf.Tensor: shape=(3,), dtype=string, numpy=array([b'Short', b'Medium', b'Medium'], dtype=object)>, 'Vaccinated': <tf.Tensor: shape=(3,), dtype=string, numpy=array([b'No', b'Not Sure', b'Yes'], dtype=object)>, 'Sterilized': <tf.Tensor: shape=(3,), dtype=string, numpy=array([b'No', b'Not Sure', b'No'], dtype=object)>, 'Health': <tf.Tensor: shape=(3,), dtype=string, numpy=array([b'Healthy', b'Healthy', b'Healthy'], dtype=object)>, 'Fee': <tf.Tensor: shape=(3,), dtype=int64, numpy=array([100,   0,   0], dtype=int64)>, 'PhotoAmt': <tf.Tensor: shape=(3,), dtype=int64, numpy=array([1, 2, 7], dtype=int64)>}, <tf.Tensor: shape=(3,), dtype=int32, numpy=array([1, 1, 1])>)]\n",
      "------------------------------------------------------------------------\n"
     ]
    }
   ],
   "source": [
    "# 先测验一下数据输出\n",
    "test_dataframe = dataframe.copy()\n",
    "# 取出的是一个列\n",
    "# debug后会发现，dataframe是一个表格，series是一个列，dataframe是一堆的series组成的\n",
    "test_labels = test_dataframe.pop('target')\n",
    "\n",
    "# dict的遍历\n",
    "my_dict = {'a': 1, 'b': 2}\n",
    "for key in my_dict:\n",
    "    print(key)\n",
    "    \n",
    "# 会调用对象的to_dict()方法进行转换成dict，这是chargpt说的，此处用的并不是迭代特性\n",
    "# print(dict(dataframe))\n",
    "\n",
    "# from_tensor_slices可以去看，tf_data.ipynb, 在这里对每个可迭代的\n",
    "# dataset = tf.data.Dataset.from_tensor_slices(({\"a\": [1, 2], \"b\": [3, 4]}, {\"c\": [5, 6]}))\n",
    "# print(list(dataset.as_numpy_iterator()))\n",
    "\n",
    "# 这个参数是元组，就是对每一项进行拆分，最后合成元组，拆分后每一项都这个结构：{a=1, b=2, c=3}, label[i]\n",
    "ds = tf.data.Dataset.from_tensor_slices((dict(test_dataframe), test_labels))\n",
    "print(list(ds)[:1])\n",
    "\n",
    "print('------------------------------------------------------------------------')\n",
    "# 3个为一组 {a = [1,2,3], b = [4,5,6], c = [7,8,9]}, [1,2,3]\n",
    "ds = ds.batch(3)\n",
    "print(list(ds)[:1])\n",
    "\n",
    "print('------------------------------------------------------------------------')\n",
    "# 做个测验，直接对test_dataframe进行拆分的结果（Failed to convert a NumPy array to a Tensor (Unsupported object type int)）\n",
    "# ds1 = tf.data.Dataset.from_tensor_slices((test_dataframe, test_labels)) \n",
    "\n",
    "# A utility method to create a tf.data dataset from a Pandas Dataframe\n",
    "def df_to_dataset(dataframe, shuffle=True, batch_size=32):\n",
    "  dataframe = dataframe.copy()\n",
    "  labels = dataframe.pop('target')\n",
    "  ds = tf.data.Dataset.from_tensor_slices((dict(dataframe), labels))\n",
    "  if shuffle:\n",
    "    ds = ds.shuffle(buffer_size=len(dataframe))\n",
    "  ds = ds.batch(batch_size)\n",
    "  return ds\n",
    "\n",
    "batch_size = 5 # A small batch sized is used for demonstration purposes\n",
    "train_ds = df_to_dataset(train, batch_size=batch_size)\n",
    "val_ds = df_to_dataset(val, shuffle=False, batch_size=batch_size)\n",
    "test_ds = df_to_dataset(test, shuffle=False, batch_size=batch_size)"
   ]
  },
  {
   "cell_type": "markdown",
   "id": "1d973ae0b72b7719",
   "metadata": {
    "collapsed": false
   },
   "source": [
    "## 理解输入流水线"
   ]
  },
  {
   "cell_type": "code",
   "execution_count": 8,
   "id": "3ba67690de297f33",
   "metadata": {
    "collapsed": false,
    "ExecuteTime": {
     "end_time": "2024-05-08T23:38:57.611619800Z",
     "start_time": "2024-05-08T23:38:57.574444Z"
    }
   },
   "outputs": [
    {
     "name": "stdout",
     "output_type": "stream",
     "text": [
      "Every feature: ['Type', 'Age', 'Breed1', 'Gender', 'Color1', 'Color2', 'MaturitySize', 'FurLength', 'Vaccinated', 'Sterilized', 'Health', 'Fee', 'PhotoAmt']\n",
      "A batch of ages: tf.Tensor([7 3 3 2 2], shape=(5,), dtype=int64)\n",
      "A batch of targets: tf.Tensor([1 0 1 1 1], shape=(5,), dtype=int32)\n"
     ]
    }
   ],
   "source": [
    "for feature_batch, label_batch in train_ds.take(1):\n",
    "  print('Every feature:', list(feature_batch.keys()))\n",
    "  print('A batch of ages:', feature_batch['Age'])\n",
    "  print('A batch of targets:', label_batch )"
   ]
  },
  {
   "cell_type": "markdown",
   "id": "133301b0fd6de7f0",
   "metadata": {
    "collapsed": false
   },
   "source": [
    "## 演示几种特征列"
   ]
  },
  {
   "cell_type": "code",
   "execution_count": 9,
   "id": "7348981e77783702",
   "metadata": {
    "collapsed": false,
    "ExecuteTime": {
     "end_time": "2024-05-08T23:38:57.690558100Z",
     "start_time": "2024-05-08T23:38:57.606419800Z"
    }
   },
   "outputs": [
    {
     "name": "stdout",
     "output_type": "stream",
     "text": [
      "({'Type': <tf.Tensor: shape=(5,), dtype=string, numpy=array([b'Cat', b'Cat', b'Cat', b'Cat', b'Cat'], dtype=object)>, 'Age': <tf.Tensor: shape=(5,), dtype=int64, numpy=array([1, 3, 1, 2, 3], dtype=int64)>, 'Breed1': <tf.Tensor: shape=(5,), dtype=string, numpy=\n",
      "array([b'Domestic Long Hair', b'Domestic Short Hair',\n",
      "       b'Domestic Short Hair', b'Domestic Short Hair',\n",
      "       b'Domestic Short Hair'], dtype=object)>, 'Gender': <tf.Tensor: shape=(5,), dtype=string, numpy=array([b'Male', b'Female', b'Male', b'Female', b'Female'], dtype=object)>, 'Color1': <tf.Tensor: shape=(5,), dtype=string, numpy=array([b'Black', b'Golden', b'Black', b'Brown', b'Black'], dtype=object)>, 'Color2': <tf.Tensor: shape=(5,), dtype=string, numpy=array([b'Brown', b'Yellow', b'Gray', b'Yellow', b'No Color'], dtype=object)>, 'MaturitySize': <tf.Tensor: shape=(5,), dtype=string, numpy=array([b'Small', b'Small', b'Medium', b'Medium', b'Small'], dtype=object)>, 'FurLength': <tf.Tensor: shape=(5,), dtype=string, numpy=array([b'Medium', b'Short', b'Short', b'Medium', b'Medium'], dtype=object)>, 'Vaccinated': <tf.Tensor: shape=(5,), dtype=string, numpy=array([b'No', b'No', b'No', b'No', b'No'], dtype=object)>, 'Sterilized': <tf.Tensor: shape=(5,), dtype=string, numpy=array([b'No', b'No', b'No', b'No', b'No'], dtype=object)>, 'Health': <tf.Tensor: shape=(5,), dtype=string, numpy=\n",
      "array([b'Healthy', b'Healthy', b'Healthy', b'Healthy', b'Healthy'],\n",
      "      dtype=object)>, 'Fee': <tf.Tensor: shape=(5,), dtype=int64, numpy=array([ 0,  0,  0, 15,  0], dtype=int64)>, 'PhotoAmt': <tf.Tensor: shape=(5,), dtype=int64, numpy=array([1, 6, 7, 3, 5], dtype=int64)>}, <tf.Tensor: shape=(5,), dtype=int32, numpy=array([1, 1, 1, 1, 0])>)\n",
      "-----------------------------------------------------------\n",
      "{'Type': <tf.Tensor: shape=(5,), dtype=string, numpy=array([b'Cat', b'Cat', b'Dog', b'Dog', b'Dog'], dtype=object)>, 'Age': <tf.Tensor: shape=(5,), dtype=int64, numpy=array([ 0,  4,  3, 12,  2], dtype=int64)>, 'Breed1': <tf.Tensor: shape=(5,), dtype=string, numpy=\n",
      "array([b'Domestic Short Hair', b'Domestic Short Hair',\n",
      "       b'Golden Retriever', b'Mixed Breed', b'Mixed Breed'], dtype=object)>, 'Gender': <tf.Tensor: shape=(5,), dtype=string, numpy=array([b'Male', b'Female', b'Female', b'Male', b'Male'], dtype=object)>, 'Color1': <tf.Tensor: shape=(5,), dtype=string, numpy=array([b'Black', b'Black', b'Brown', b'Golden', b'Black'], dtype=object)>, 'Color2': <tf.Tensor: shape=(5,), dtype=string, numpy=array([b'White', b'Brown', b'No Color', b'Cream', b'Brown'], dtype=object)>, 'MaturitySize': <tf.Tensor: shape=(5,), dtype=string, numpy=array([b'Medium', b'Large', b'Medium', b'Medium', b'Medium'], dtype=object)>, 'FurLength': <tf.Tensor: shape=(5,), dtype=string, numpy=array([b'Short', b'Short', b'Medium', b'Medium', b'Medium'], dtype=object)>, 'Vaccinated': <tf.Tensor: shape=(5,), dtype=string, numpy=array([b'No', b'No', b'No', b'No', b'Yes'], dtype=object)>, 'Sterilized': <tf.Tensor: shape=(5,), dtype=string, numpy=array([b'No', b'No', b'No', b'No', b'No'], dtype=object)>, 'Health': <tf.Tensor: shape=(5,), dtype=string, numpy=\n",
      "array([b'Healthy', b'Healthy', b'Healthy', b'Healthy', b'Healthy'],\n",
      "      dtype=object)>, 'Fee': <tf.Tensor: shape=(5,), dtype=int64, numpy=array([0, 0, 0, 0, 0], dtype=int64)>, 'PhotoAmt': <tf.Tensor: shape=(5,), dtype=int64, numpy=array([ 5,  8,  2, 10,  6], dtype=int64)>}\n",
      "-----------------------------------------------------------\n",
      "({'Type': TensorSpec(shape=(None,), dtype=tf.string, name=None), 'Age': TensorSpec(shape=(None,), dtype=tf.int64, name=None), 'Breed1': TensorSpec(shape=(None,), dtype=tf.string, name=None), 'Gender': TensorSpec(shape=(None,), dtype=tf.string, name=None), 'Color1': TensorSpec(shape=(None,), dtype=tf.string, name=None), 'Color2': TensorSpec(shape=(None,), dtype=tf.string, name=None), 'MaturitySize': TensorSpec(shape=(None,), dtype=tf.string, name=None), 'FurLength': TensorSpec(shape=(None,), dtype=tf.string, name=None), 'Vaccinated': TensorSpec(shape=(None,), dtype=tf.string, name=None), 'Sterilized': TensorSpec(shape=(None,), dtype=tf.string, name=None), 'Health': TensorSpec(shape=(None,), dtype=tf.string, name=None), 'Fee': TensorSpec(shape=(None,), dtype=tf.int64, name=None), 'PhotoAmt': TensorSpec(shape=(None,), dtype=tf.int64, name=None)}, TensorSpec(shape=(None,), dtype=tf.int32, name=None))\n"
     ]
    }
   ],
   "source": [
    "# {a=([1,2,3], b=[4,5,6], c=[7,8,9]}, [10,11,12])\n",
    "print(next(iter(train_ds)))\n",
    "print(\"-----------------------------------------------------------\")\n",
    "# 这个[0]是取出元组的第一项，(a=[1,2,3], b=[4,5,6], c=[7,8,9]}\n",
    "print(next(iter(train_ds))[0])\n",
    "# We will use this batch to demonstrate several types of feature columns\n",
    "example_batch = next(iter(train_ds))[0]\n",
    "print(\"-----------------------------------------------------------\")\n",
    "print(train_ds.element_spec)"
   ]
  },
  {
   "cell_type": "code",
   "execution_count": 10,
   "id": "d40f819bed486ef7",
   "metadata": {
    "collapsed": false,
    "ExecuteTime": {
     "end_time": "2024-05-08T23:38:57.699782500Z",
     "start_time": "2024-05-08T23:38:57.683467400Z"
    }
   },
   "outputs": [],
   "source": [
    "# A utility method to create a feature column\n",
    "# and to transform a batch of data\n",
    "def demo(feature_column):\n",
    "  feature_layer = layers.DenseFeatures(feature_column)\n",
    "  print(feature_layer(example_batch).numpy())"
   ]
  },
  {
   "cell_type": "markdown",
   "id": "528478dc004e17c",
   "metadata": {
    "collapsed": false
   },
   "source": [
    "#### numeric_column 与 bucketized_column"
   ]
  },
  {
   "cell_type": "code",
   "execution_count": 11,
   "id": "bf9e1f4f637842e4",
   "metadata": {
    "collapsed": false,
    "ExecuteTime": {
     "end_time": "2024-05-08T23:38:57.761692800Z",
     "start_time": "2024-05-08T23:38:57.699782500Z"
    }
   },
   "outputs": [
    {
     "name": "stdout",
     "output_type": "stream",
     "text": [
      "tf.Tensor(\n",
      "[[ 0.   0.   1.   0.   0.   0.   5. ]\n",
      " [ 1.   0.   0.   0.   0.   0.   6.4]\n",
      " [ 0.   0.   1.   0.   0.   0.  10.5]\n",
      " [ 0.   0.   1.   0.   0.   0.  13.6]\n",
      " [ 0.   0.   0.   1.   0.   0.  15.7]\n",
      " [ 0.   0.   1.   0.   0.   0.  19.9]\n",
      " [ 0.   0.   0.   0.   1.   0.  20.3]\n",
      " [ 0.   0.   0.   0.   0.   1.   0. ]], shape=(8, 7), dtype=float32)\n",
      "tf.Tensor(\n",
      "[[15.   5. ]\n",
      " [ 9.   6.4]\n",
      " [17.  10.5]\n",
      " [19.  13.6]\n",
      " [21.  15.7]\n",
      " [18.  19.9]\n",
      " [25.  20.3]\n",
      " [30.   0. ]], shape=(8, 2), dtype=float32)\n"
     ]
    }
   ],
   "source": [
    "data = {'a': [15, 9, 17, 19, 21, 18, 25, 30],\n",
    "   'b': [5.0, 6.4, 10.5, 13.6, 15.7, 19.9, 20.3 , 0.0]}\n",
    "a = tf.feature_column.numeric_column('a')\n",
    "b = tf.feature_column.numeric_column('b')\n",
    "a_buckets = tf.feature_column.bucketized_column(a,\n",
    "   boundaries=[10, 15, 20, 25, 30])\n",
    "\n",
    "feature_layer1 = tf.keras.layers.DenseFeatures([a_buckets, b])\n",
    "feature_layer2 = tf.keras.layers.DenseFeatures([a, b])\n",
    "print(feature_layer1(data))    ## shape : 8*2\n",
    "print(feature_layer2(data))    ## shape : 8*2"
   ]
  },
  {
   "cell_type": "code",
   "execution_count": 14,
   "outputs": [
    {
     "name": "stdout",
     "output_type": "stream",
     "text": [
      "WARNING:tensorflow:Tensor._shape is private, use Tensor.shape instead. Tensor._shape will eventually be removed.\n",
      "[[4.]\n",
      " [3.]\n",
      " [2.]\n",
      " [2.]\n",
      " [1.]]\n"
     ]
    }
   ],
   "source": [
    "# 特征列定义\n",
    "photo_count = feature_column.numeric_column('PhotoAmt')\n",
    "# 根据特征列定义转换层\n",
    "feature_layer = layers.DenseFeatures(photo_count)\n",
    "# 将数据转化成能够输入模型的参数，tensor\n",
    "print(feature_layer(example_batch).numpy())"
   ],
   "metadata": {
    "collapsed": false,
    "ExecuteTime": {
     "end_time": "2024-05-08T23:41:24.565177300Z",
     "start_time": "2024-05-08T23:39:05.376449700Z"
    }
   },
   "id": "16b9a9172dec8178"
  },
  {
   "cell_type": "markdown",
   "source": [
    "#### 分类列"
   ],
   "metadata": {
    "collapsed": false
   },
   "id": "a7ae4dc24ea5d41f"
  },
  {
   "cell_type": "code",
   "execution_count": 15,
   "outputs": [
    {
     "name": "stdout",
     "output_type": "stream",
     "text": [
      "[[0. 1.]\n",
      " [1. 0.]\n",
      " [1. 0.]\n",
      " [1. 0.]\n",
      " [0. 1.]]\n"
     ]
    }
   ],
   "source": [
    "animal_type = feature_column.categorical_column_with_vocabulary_list(\n",
    "      'Type', ['Cat', 'Dog'])\n",
    "animal_type_one_hot = feature_column.indicator_column(animal_type)\n",
    "feature_layer = layers.DenseFeatures(animal_type_one_hot)\n",
    "print(feature_layer(example_batch).numpy())"
   ],
   "metadata": {
    "collapsed": false,
    "ExecuteTime": {
     "end_time": "2024-05-08T23:48:50.316228800Z",
     "start_time": "2024-05-08T23:47:44.506253900Z"
    }
   },
   "id": "cf820ea4d5d81cf"
  },
  {
   "cell_type": "markdown",
   "source": [
    "#### 嵌入列"
   ],
   "metadata": {
    "collapsed": false
   },
   "id": "c16ac9ca17d89371"
  },
  {
   "cell_type": "code",
   "outputs": [
    {
     "name": "stdout",
     "output_type": "stream",
     "text": [
      "[[-0.0057958  -0.00425338  0.09781625 -0.22737628  0.08059935  0.09626167\n",
      "  -0.24882327 -0.01154693]\n",
      " [ 0.33743584 -0.60921425  0.44776875 -0.24884053 -0.42492384  0.15138388\n",
      "   0.03351183 -0.08058151]\n",
      " [-0.49690711  0.637009   -0.09988708 -0.02225192  0.46329474 -0.12809551\n",
      "  -0.22430539 -0.14211465]\n",
      " [-0.49690711  0.637009   -0.09988708 -0.02225192  0.46329474 -0.12809551\n",
      "  -0.22430539 -0.14211465]\n",
      " [-0.39051655 -0.34926653 -0.13402815  0.5017321  -0.5653207   0.00196057\n",
      "   0.6570876   0.2268547 ]]\n"
     ]
    }
   ],
   "source": [
    "# Notice the input to the embedding column is the categorical column\n",
    "# we previously created\n",
    "breed1 = feature_column.categorical_column_with_vocabulary_list(\n",
    "      'Breed1', dataframe.Breed1.unique())\n",
    "# 每一个特征转化成一个8维的特征向量\n",
    "breed1_embedding = feature_column.embedding_column(breed1, dimension=8)\n",
    "feature_layer = layers.DenseFeatures(breed1_embedding)\n",
    "# 将数据转化成能够输入模型的参数，tensor\n",
    "print(feature_layer(example_batch).numpy())"
   ],
   "metadata": {
    "collapsed": false,
    "ExecuteTime": {
     "end_time": "2024-05-09T00:05:55.914630500Z",
     "start_time": "2024-05-09T00:05:55.890971600Z"
    }
   },
   "id": "5890fd177b2f8be8",
   "execution_count": 20
  },
  {
   "cell_type": "code",
   "outputs": [],
   "source": [],
   "metadata": {
    "collapsed": false,
    "ExecuteTime": {
     "end_time": "2024-05-09T00:05:51.409978500Z",
     "start_time": "2024-05-09T00:05:51.397547100Z"
    }
   },
   "id": "caab70261ae7fbce",
   "execution_count": 18
  }
 ],
 "metadata": {
  "kernelspec": {
   "display_name": "Python 3 (ipykernel)",
   "language": "python",
   "name": "python3"
  },
  "language_info": {
   "codemirror_mode": {
    "name": "ipython",
    "version": 3
   },
   "file_extension": ".py",
   "mimetype": "text/x-python",
   "name": "python",
   "nbconvert_exporter": "python",
   "pygments_lexer": "ipython3",
   "version": "3.8.18"
  }
 },
 "nbformat": 4,
 "nbformat_minor": 5
}
