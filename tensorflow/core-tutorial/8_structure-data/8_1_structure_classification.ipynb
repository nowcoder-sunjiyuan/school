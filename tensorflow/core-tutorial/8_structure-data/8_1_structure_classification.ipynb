{
 "cells": [
  {
   "cell_type": "code",
   "execution_count": 2,
   "id": "initial_id",
   "metadata": {
    "collapsed": true,
    "jupyter": {
     "outputs_hidden": true
    },
    "ExecuteTime": {
     "end_time": "2024-05-10T14:46:16.257660100Z",
     "start_time": "2024-05-10T14:46:13.750281Z"
    }
   },
   "outputs": [],
   "source": [
    "import numpy as np\n",
    "import pandas as pd\n",
    "\n",
    "import tensorflow as tf\n",
    "\n",
    "from tensorflow import feature_column\n",
    "from keras import layers\n",
    "from sklearn.model_selection import train_test_split"
   ]
  },
  {
   "cell_type": "code",
   "execution_count": 3,
   "id": "c1a4098895ceda58",
   "metadata": {
    "collapsed": false,
    "ExecuteTime": {
     "end_time": "2024-05-10T14:46:16.350250300Z",
     "start_time": "2024-05-10T14:46:16.258685200Z"
    }
   },
   "outputs": [],
   "source": [
    "import pathlib\n",
    "\n",
    "dataset_url = 'http://storage.googleapis.com/download.tensorflow.org/data/petfinder-mini.zip'\n",
    "csv_file = 'datasets/petfinder-mini/petfinder-mini.csv'\n",
    "\n",
    "tf.keras.utils.get_file('petfinder_mini.zip', dataset_url,\n",
    "                        extract=True, cache_dir='.')\n",
    "dataframe = pd.read_csv(csv_file)"
   ]
  },
  {
   "cell_type": "code",
   "execution_count": 4,
   "id": "a4aec17bac140d44",
   "metadata": {
    "collapsed": false,
    "ExecuteTime": {
     "end_time": "2024-05-10T14:46:16.383637600Z",
     "start_time": "2024-05-10T14:46:16.353339300Z"
    }
   },
   "outputs": [
    {
     "name": "stdout",
     "output_type": "stream",
     "text": [
      "(11537, 15)\n"
     ]
    },
    {
     "data": {
      "text/plain": "  Type  Age                Breed1  Gender Color1    Color2 MaturitySize  \\\n0  Cat    3                 Tabby    Male  Black     White        Small   \n1  Cat    1  Domestic Medium Hair    Male  Black     Brown       Medium   \n2  Dog    1           Mixed Breed    Male  Brown     White       Medium   \n3  Dog    4           Mixed Breed  Female  Black     Brown       Medium   \n4  Dog    1           Mixed Breed    Male  Black  No Color       Medium   \n\n  FurLength Vaccinated Sterilized   Health  Fee  \\\n0     Short         No         No  Healthy  100   \n1    Medium   Not Sure   Not Sure  Healthy    0   \n2    Medium        Yes         No  Healthy    0   \n3     Short        Yes         No  Healthy  150   \n4     Short         No         No  Healthy    0   \n\n                                         Description  PhotoAmt  AdoptionSpeed  \n0  Nibble is a 3+ month old ball of cuteness. He ...         1              2  \n1  I just found it alone yesterday near my apartm...         2              0  \n2  Their pregnant mother was dumped by her irresp...         7              3  \n3  Good guard dog, very alert, active, obedience ...         8              2  \n4  This handsome yet cute boy is up for adoption....         3              2  ",
      "text/html": "<div>\n<style scoped>\n    .dataframe tbody tr th:only-of-type {\n        vertical-align: middle;\n    }\n\n    .dataframe tbody tr th {\n        vertical-align: top;\n    }\n\n    .dataframe thead th {\n        text-align: right;\n    }\n</style>\n<table border=\"1\" class=\"dataframe\">\n  <thead>\n    <tr style=\"text-align: right;\">\n      <th></th>\n      <th>Type</th>\n      <th>Age</th>\n      <th>Breed1</th>\n      <th>Gender</th>\n      <th>Color1</th>\n      <th>Color2</th>\n      <th>MaturitySize</th>\n      <th>FurLength</th>\n      <th>Vaccinated</th>\n      <th>Sterilized</th>\n      <th>Health</th>\n      <th>Fee</th>\n      <th>Description</th>\n      <th>PhotoAmt</th>\n      <th>AdoptionSpeed</th>\n    </tr>\n  </thead>\n  <tbody>\n    <tr>\n      <th>0</th>\n      <td>Cat</td>\n      <td>3</td>\n      <td>Tabby</td>\n      <td>Male</td>\n      <td>Black</td>\n      <td>White</td>\n      <td>Small</td>\n      <td>Short</td>\n      <td>No</td>\n      <td>No</td>\n      <td>Healthy</td>\n      <td>100</td>\n      <td>Nibble is a 3+ month old ball of cuteness. He ...</td>\n      <td>1</td>\n      <td>2</td>\n    </tr>\n    <tr>\n      <th>1</th>\n      <td>Cat</td>\n      <td>1</td>\n      <td>Domestic Medium Hair</td>\n      <td>Male</td>\n      <td>Black</td>\n      <td>Brown</td>\n      <td>Medium</td>\n      <td>Medium</td>\n      <td>Not Sure</td>\n      <td>Not Sure</td>\n      <td>Healthy</td>\n      <td>0</td>\n      <td>I just found it alone yesterday near my apartm...</td>\n      <td>2</td>\n      <td>0</td>\n    </tr>\n    <tr>\n      <th>2</th>\n      <td>Dog</td>\n      <td>1</td>\n      <td>Mixed Breed</td>\n      <td>Male</td>\n      <td>Brown</td>\n      <td>White</td>\n      <td>Medium</td>\n      <td>Medium</td>\n      <td>Yes</td>\n      <td>No</td>\n      <td>Healthy</td>\n      <td>0</td>\n      <td>Their pregnant mother was dumped by her irresp...</td>\n      <td>7</td>\n      <td>3</td>\n    </tr>\n    <tr>\n      <th>3</th>\n      <td>Dog</td>\n      <td>4</td>\n      <td>Mixed Breed</td>\n      <td>Female</td>\n      <td>Black</td>\n      <td>Brown</td>\n      <td>Medium</td>\n      <td>Short</td>\n      <td>Yes</td>\n      <td>No</td>\n      <td>Healthy</td>\n      <td>150</td>\n      <td>Good guard dog, very alert, active, obedience ...</td>\n      <td>8</td>\n      <td>2</td>\n    </tr>\n    <tr>\n      <th>4</th>\n      <td>Dog</td>\n      <td>1</td>\n      <td>Mixed Breed</td>\n      <td>Male</td>\n      <td>Black</td>\n      <td>No Color</td>\n      <td>Medium</td>\n      <td>Short</td>\n      <td>No</td>\n      <td>No</td>\n      <td>Healthy</td>\n      <td>0</td>\n      <td>This handsome yet cute boy is up for adoption....</td>\n      <td>3</td>\n      <td>2</td>\n    </tr>\n  </tbody>\n</table>\n</div>"
     },
     "execution_count": 4,
     "metadata": {},
     "output_type": "execute_result"
    }
   ],
   "source": [
    "print(dataframe.shape)\n",
    "dataframe.head()"
   ]
  },
  {
   "cell_type": "markdown",
   "id": "640452d9a7333991",
   "metadata": {
    "collapsed": false
   },
   "source": [
    "列\t描述\t特征类型\t数据类型\n",
    "Type\t动物类型（狗、猫）\t分类\t字符串\n",
    "Age\t宠物年龄\t数值\t整数\n",
    "Breed1\t宠物的主要品种\t分类\t字符串\n",
    "Color1\t宠物的颜色 1\t分类\t字符串\n",
    "Color2\t宠物的颜色 2\t分类\t字符串\n",
    "MaturitySize\t成年个体大小\t分类\t字符串\n",
    "FurLength\t毛发长度\t分类\t字符串\n",
    "Vaccinated\t宠物已接种疫苗\t分类\t字符串\n",
    "Sterilized\t宠物已绝育\t分类\t字符串\n",
    "Health\t健康状况\t分类\t字符串\n",
    "Fee\t领养费\t数值\t整数\n",
    "Description\t关于此宠物的简介\t文本\t字符串\n",
    "PhotoAmt\t为该宠物上传的照片总数\t数值\t整数\n",
    "AdoptionSpeed\t领养速度\t分类\t整数"
   ]
  },
  {
   "cell_type": "markdown",
   "id": "5c820d1794d03e22",
   "metadata": {
    "collapsed": false
   },
   "source": [
    "## 构造数据"
   ]
  },
  {
   "cell_type": "code",
   "execution_count": 5,
   "id": "fa7e7b243c61ee3f",
   "metadata": {
    "collapsed": false,
    "ExecuteTime": {
     "end_time": "2024-05-10T14:46:16.396968300Z",
     "start_time": "2024-05-10T14:46:16.366338800Z"
    }
   },
   "outputs": [],
   "source": [
    "# In the original dataset \"4\" indicates the pet was not adopted. 4表示未被领养\n",
    "# np.where 像推导式\n",
    "dataframe['target'] = np.where(dataframe['AdoptionSpeed']==4, 0, 1)\n",
    "\n",
    "# Drop un-used columns.\n",
    "dataframe = dataframe.drop(columns=['AdoptionSpeed', 'Description'])"
   ]
  },
  {
   "cell_type": "markdown",
   "id": "5f398fd0ae88781e",
   "metadata": {
    "collapsed": false
   },
   "source": [
    "## 划分数据集"
   ]
  },
  {
   "cell_type": "code",
   "execution_count": 6,
   "id": "9c2bd8e46fa02dd8",
   "metadata": {
    "collapsed": false,
    "ExecuteTime": {
     "end_time": "2024-05-10T14:46:16.409224500Z",
     "start_time": "2024-05-10T14:46:16.380560900Z"
    }
   },
   "outputs": [
    {
     "name": "stdout",
     "output_type": "stream",
     "text": [
      "7383 train examples\n",
      "1846 validation examples\n",
      "2308 test examples\n"
     ]
    }
   ],
   "source": [
    "# 5分之1的测试集，如果不设置默认是0.25\n",
    "# 验证集是什么？\n",
    "train, test = train_test_split(dataframe, test_size=0.2)\n",
    "train, val = train_test_split(train, test_size=0.2)\n",
    "print(len(train), 'train examples')\n",
    "print(len(val), 'validation examples')\n",
    "print(len(test), 'test examples')"
   ]
  },
  {
   "cell_type": "markdown",
   "id": "6e992b13d5385720",
   "metadata": {
    "collapsed": false
   },
   "source": [
    "## 解包，zip()与dict()"
   ]
  },
  {
   "cell_type": "code",
   "execution_count": 7,
   "id": "c8bbd71229972f8d",
   "metadata": {
    "collapsed": false,
    "ExecuteTime": {
     "end_time": "2024-05-10T14:46:16.444130200Z",
     "start_time": "2024-05-10T14:46:16.398017600Z"
    }
   },
   "outputs": [
    {
     "name": "stdout",
     "output_type": "stream",
     "text": [
      "a解包 (1, 'a') (2, 'b') (3, 'c')\n",
      "b解包 [1, 2] [3, 4] [5, 6]\n",
      "zip迭代 [(1, 4), (2, 5), (3, 6)]\n",
      "[((1, 'a'),), ((2, 'b'),), ((3, 'c'),)]\n",
      "[((1, 'a'), [1, 2]), ((2, 'b'), [3, 4]), ((3, 'c'), [5, 6])]\n",
      "[(1, 2, 3), ('a', 'b', 'c')]\n",
      "dict:\n",
      "{'a': 'a', 'b': 'b', 't': 't'}\n",
      "{'one': 1, 'two': 2, 'three': 3}\n",
      "{'one': 1, 'two': 2, 'three': 3}\n",
      "{'x': 1, 'y': 2, 'z': 3}\n"
     ]
    }
   ],
   "source": [
    "## 数组解包\n",
    "a = [(1, 'a'), (2, 'b'), (3, 'c')]\n",
    "print(\"a解包\", *a)\n",
    "\n",
    "## 元组解包\n",
    "b = ([1, 2], [3, 4], [5, 6])\n",
    "print('b解包', *b)\n",
    "\n",
    "# zip() 函数用于将可迭代的对象作为参数，将对象中对应的元素打包成一个个元组，然后返回由这些元组组成的列表。\n",
    "print('zip迭代', list(zip([1,2,3], (4,5,6))))\n",
    "print(list(zip(a)))\n",
    "## zip迭代, 用迭代器，迭代a，b，然后每次迭代的东西组成一个元组\n",
    "print(list(zip(a, b)))\n",
    "\n",
    "## zip迭代，zip(*)，解包后迭代, 解包后可以理解成三个参数，等同于 zip((1, 'a'), (2, 'b'), (3, 'c'))\n",
    "print(list(zip(*a))) \n",
    "\n",
    "## dict创建一个字典 (https://www.runoob.com/python/python-func-dict.html),参数有三种\n",
    "## 其实如果是一个对象的话，会调用对象的 __dict__和，to_dict()进行转换成dict\n",
    "print('dict:')\n",
    "# 映射对象 也就是 a=b这种\n",
    "print(dict(a='a', b='b', t='t'))\n",
    "print(dict(zip(['one', 'two', 'three'], (1, 2, 3))))  # 这里的zip在进行两个遍历\n",
    "# 可遍历对象，遍历对象中必须只有两个元素\n",
    "print(dict([('one', 1), ('two', 2), ('three', 3)]))\n",
    "# dict([('one', 1, 2), ('two', 2, 3), ('three', 3, 4)]) # dictionary update sequence element #0 has length 3; 2 is required\n",
    "print(dict(list(zip(['x', 'y', 'z'], [1, 2, 3])))) #zip两个进行遍历，list转换成了列表，这里进行的是可遍历对象"
   ]
  },
  {
   "cell_type": "markdown",
   "id": "351a3055566ba2fb",
   "metadata": {
    "collapsed": false
   },
   "source": [
    "## 创建输入流水线"
   ]
  },
  {
   "cell_type": "code",
   "execution_count": 8,
   "id": "12fe2c87e77f7035",
   "metadata": {
    "collapsed": false,
    "ExecuteTime": {
     "end_time": "2024-05-10T14:46:18.467341800Z",
     "start_time": "2024-05-10T14:46:16.413354Z"
    }
   },
   "outputs": [
    {
     "name": "stdout",
     "output_type": "stream",
     "text": [
      "a\n",
      "b\n",
      "[({'Type': <tf.Tensor: shape=(), dtype=string, numpy=b'Cat'>, 'Age': <tf.Tensor: shape=(), dtype=int64, numpy=3>, 'Breed1': <tf.Tensor: shape=(), dtype=string, numpy=b'Tabby'>, 'Gender': <tf.Tensor: shape=(), dtype=string, numpy=b'Male'>, 'Color1': <tf.Tensor: shape=(), dtype=string, numpy=b'Black'>, 'Color2': <tf.Tensor: shape=(), dtype=string, numpy=b'White'>, 'MaturitySize': <tf.Tensor: shape=(), dtype=string, numpy=b'Small'>, 'FurLength': <tf.Tensor: shape=(), dtype=string, numpy=b'Short'>, 'Vaccinated': <tf.Tensor: shape=(), dtype=string, numpy=b'No'>, 'Sterilized': <tf.Tensor: shape=(), dtype=string, numpy=b'No'>, 'Health': <tf.Tensor: shape=(), dtype=string, numpy=b'Healthy'>, 'Fee': <tf.Tensor: shape=(), dtype=int64, numpy=100>, 'PhotoAmt': <tf.Tensor: shape=(), dtype=int64, numpy=1>}, <tf.Tensor: shape=(), dtype=int32, numpy=1>)]\n",
      "------------------------------------------------------------------------\n",
      "[({'Type': <tf.Tensor: shape=(3,), dtype=string, numpy=array([b'Cat', b'Cat', b'Dog'], dtype=object)>, 'Age': <tf.Tensor: shape=(3,), dtype=int64, numpy=array([3, 1, 1], dtype=int64)>, 'Breed1': <tf.Tensor: shape=(3,), dtype=string, numpy=array([b'Tabby', b'Domestic Medium Hair', b'Mixed Breed'], dtype=object)>, 'Gender': <tf.Tensor: shape=(3,), dtype=string, numpy=array([b'Male', b'Male', b'Male'], dtype=object)>, 'Color1': <tf.Tensor: shape=(3,), dtype=string, numpy=array([b'Black', b'Black', b'Brown'], dtype=object)>, 'Color2': <tf.Tensor: shape=(3,), dtype=string, numpy=array([b'White', b'Brown', b'White'], dtype=object)>, 'MaturitySize': <tf.Tensor: shape=(3,), dtype=string, numpy=array([b'Small', b'Medium', b'Medium'], dtype=object)>, 'FurLength': <tf.Tensor: shape=(3,), dtype=string, numpy=array([b'Short', b'Medium', b'Medium'], dtype=object)>, 'Vaccinated': <tf.Tensor: shape=(3,), dtype=string, numpy=array([b'No', b'Not Sure', b'Yes'], dtype=object)>, 'Sterilized': <tf.Tensor: shape=(3,), dtype=string, numpy=array([b'No', b'Not Sure', b'No'], dtype=object)>, 'Health': <tf.Tensor: shape=(3,), dtype=string, numpy=array([b'Healthy', b'Healthy', b'Healthy'], dtype=object)>, 'Fee': <tf.Tensor: shape=(3,), dtype=int64, numpy=array([100,   0,   0], dtype=int64)>, 'PhotoAmt': <tf.Tensor: shape=(3,), dtype=int64, numpy=array([1, 2, 7], dtype=int64)>}, <tf.Tensor: shape=(3,), dtype=int32, numpy=array([1, 1, 1])>)]\n",
      "------------------------------------------------------------------------\n"
     ]
    }
   ],
   "source": [
    "# 先测验一下数据输出\n",
    "test_dataframe = dataframe.copy()\n",
    "# 取出的是一个列\n",
    "# debug后会发现，dataframe是一个表格，series是一个列，dataframe是一堆的series组成的\n",
    "test_labels = test_dataframe.pop('target')\n",
    "\n",
    "# dict的遍历\n",
    "my_dict = {'a': 1, 'b': 2}\n",
    "for key in my_dict:\n",
    "    print(key)\n",
    "    \n",
    "# 会调用对象的to_dict()方法进行转换成dict，这是chargpt说的，此处用的并不是迭代特性\n",
    "# print(dict(dataframe))\n",
    "\n",
    "# from_tensor_slices可以去看，tf_data.ipynb, 在这里对每个可迭代的\n",
    "# dataset = tf.data.Dataset.from_tensor_slices(({\"a\": [1, 2], \"b\": [3, 4]}, {\"c\": [5, 6]}))\n",
    "# print(list(dataset.as_numpy_iterator()))\n",
    "\n",
    "# 这个参数是元组，就是对每一项进行拆分，最后合成元组，拆分后每一项都这个结构：{a=1, b=2, c=3}, label[i]\n",
    "ds = tf.data.Dataset.from_tensor_slices((dict(test_dataframe), test_labels))\n",
    "print(list(ds)[:1])\n",
    "\n",
    "print('------------------------------------------------------------------------')\n",
    "# 3个为一组 {a = [1,2,3], b = [4,5,6], c = [7,8,9]}, [1,2,3]\n",
    "ds = ds.batch(3)\n",
    "print(list(ds)[:1])\n",
    "\n",
    "print('------------------------------------------------------------------------')\n",
    "# 做个测验，直接对test_dataframe进行拆分的结果（Failed to convert a NumPy array to a Tensor (Unsupported object type int)）\n",
    "# ds1 = tf.data.Dataset.from_tensor_slices((test_dataframe, test_labels)) \n",
    "\n",
    "# A utility method to create a tf.data dataset from a Pandas Dataframe\n",
    "def df_to_dataset(dataframe, shuffle=True, batch_size=32):\n",
    "  dataframe = dataframe.copy()\n",
    "  labels = dataframe.pop('target')\n",
    "  ds = tf.data.Dataset.from_tensor_slices((dict(dataframe), labels))\n",
    "  if shuffle:\n",
    "    ds = ds.shuffle(buffer_size=len(dataframe))\n",
    "  ds = ds.batch(batch_size)\n",
    "  return ds\n",
    "\n",
    "batch_size = 5 # A small batch sized is used for demonstration purposes\n",
    "train_ds = df_to_dataset(train, batch_size=batch_size)\n",
    "val_ds = df_to_dataset(val, shuffle=False, batch_size=batch_size)\n",
    "test_ds = df_to_dataset(test, shuffle=False, batch_size=batch_size)"
   ]
  },
  {
   "cell_type": "markdown",
   "id": "1d973ae0b72b7719",
   "metadata": {
    "collapsed": false
   },
   "source": [
    "## 理解输入流水线"
   ]
  },
  {
   "cell_type": "code",
   "execution_count": 9,
   "id": "3ba67690de297f33",
   "metadata": {
    "collapsed": false,
    "ExecuteTime": {
     "end_time": "2024-05-10T14:46:18.504084800Z",
     "start_time": "2024-05-10T14:46:18.468356Z"
    }
   },
   "outputs": [
    {
     "name": "stdout",
     "output_type": "stream",
     "text": [
      "Every feature: ['Type', 'Age', 'Breed1', 'Gender', 'Color1', 'Color2', 'MaturitySize', 'FurLength', 'Vaccinated', 'Sterilized', 'Health', 'Fee', 'PhotoAmt']\n",
      "A batch of ages: tf.Tensor([ 1  6  2 49  4], shape=(5,), dtype=int64)\n",
      "A batch of targets: tf.Tensor([1 0 1 1 1], shape=(5,), dtype=int32)\n"
     ]
    }
   ],
   "source": [
    "for feature_batch, label_batch in train_ds.take(1):\n",
    "  print('Every feature:', list(feature_batch.keys()))\n",
    "  print('A batch of ages:', feature_batch['Age'])\n",
    "  print('A batch of targets:', label_batch )"
   ]
  },
  {
   "cell_type": "markdown",
   "id": "133301b0fd6de7f0",
   "metadata": {
    "collapsed": false
   },
   "source": [
    "## 演示几种特征列"
   ]
  },
  {
   "cell_type": "code",
   "execution_count": 10,
   "id": "7348981e77783702",
   "metadata": {
    "collapsed": false,
    "ExecuteTime": {
     "end_time": "2024-05-10T14:46:18.576912800Z",
     "start_time": "2024-05-10T14:46:18.499001900Z"
    }
   },
   "outputs": [
    {
     "name": "stdout",
     "output_type": "stream",
     "text": [
      "({'Type': <tf.Tensor: shape=(5,), dtype=string, numpy=array([b'Dog', b'Cat', b'Cat', b'Cat', b'Cat'], dtype=object)>, 'Age': <tf.Tensor: shape=(5,), dtype=int64, numpy=array([11,  1, 24,  3,  5], dtype=int64)>, 'Breed1': <tf.Tensor: shape=(5,), dtype=string, numpy=\n",
      "array([b'Mixed Breed', b'American Shorthair', b'Bombay',\n",
      "       b'Domestic Short Hair', b'Tabby'], dtype=object)>, 'Gender': <tf.Tensor: shape=(5,), dtype=string, numpy=array([b'Male', b'Female', b'Male', b'Female', b'Male'], dtype=object)>, 'Color1': <tf.Tensor: shape=(5,), dtype=string, numpy=array([b'Black', b'Black', b'Black', b'Black', b'Yellow'], dtype=object)>, 'Color2': <tf.Tensor: shape=(5,), dtype=string, numpy=array([b'White', b'Brown', b'No Color', b'Brown', b'White'], dtype=object)>, 'MaturitySize': <tf.Tensor: shape=(5,), dtype=string, numpy=\n",
      "array([b'Medium', b'Medium', b'Medium', b'Medium', b'Medium'],\n",
      "      dtype=object)>, 'FurLength': <tf.Tensor: shape=(5,), dtype=string, numpy=array([b'Short', b'Short', b'Short', b'Short', b'Long'], dtype=object)>, 'Vaccinated': <tf.Tensor: shape=(5,), dtype=string, numpy=array([b'Yes', b'No', b'No', b'No', b'No'], dtype=object)>, 'Sterilized': <tf.Tensor: shape=(5,), dtype=string, numpy=array([b'Yes', b'No', b'Not Sure', b'No', b'No'], dtype=object)>, 'Health': <tf.Tensor: shape=(5,), dtype=string, numpy=\n",
      "array([b'Healthy', b'Healthy', b'Healthy', b'Healthy', b'Healthy'],\n",
      "      dtype=object)>, 'Fee': <tf.Tensor: shape=(5,), dtype=int64, numpy=array([0, 0, 0, 0, 0], dtype=int64)>, 'PhotoAmt': <tf.Tensor: shape=(5,), dtype=int64, numpy=array([15,  7,  1,  3,  2], dtype=int64)>}, <tf.Tensor: shape=(5,), dtype=int32, numpy=array([1, 1, 1, 1, 1])>)\n",
      "-----------------------------------------------------------\n",
      "{'Type': <tf.Tensor: shape=(5,), dtype=string, numpy=array([b'Cat', b'Dog', b'Dog', b'Dog', b'Cat'], dtype=object)>, 'Age': <tf.Tensor: shape=(5,), dtype=int64, numpy=array([2, 5, 1, 4, 4], dtype=int64)>, 'Breed1': <tf.Tensor: shape=(5,), dtype=string, numpy=\n",
      "array([b'Domestic Short Hair', b'Shar Pei', b'Mixed Breed',\n",
      "       b'Mixed Breed', b'Domestic Short Hair'], dtype=object)>, 'Gender': <tf.Tensor: shape=(5,), dtype=string, numpy=\n",
      "array([b'Female', b'Female', b'Female', b'Female', b'Female'],\n",
      "      dtype=object)>, 'Color1': <tf.Tensor: shape=(5,), dtype=string, numpy=array([b'Black', b'Brown', b'Black', b'White', b'Brown'], dtype=object)>, 'Color2': <tf.Tensor: shape=(5,), dtype=string, numpy=\n",
      "array([b'Gray', b'No Color', b'Brown', b'No Color', b'White'],\n",
      "      dtype=object)>, 'MaturitySize': <tf.Tensor: shape=(5,), dtype=string, numpy=array([b'Medium', b'Medium', b'Small', b'Small', b'Small'], dtype=object)>, 'FurLength': <tf.Tensor: shape=(5,), dtype=string, numpy=array([b'Short', b'Short', b'Short', b'Short', b'Short'], dtype=object)>, 'Vaccinated': <tf.Tensor: shape=(5,), dtype=string, numpy=array([b'No', b'Yes', b'No', b'No', b'No'], dtype=object)>, 'Sterilized': <tf.Tensor: shape=(5,), dtype=string, numpy=array([b'No', b'No', b'No', b'No', b'No'], dtype=object)>, 'Health': <tf.Tensor: shape=(5,), dtype=string, numpy=\n",
      "array([b'Healthy', b'Healthy', b'Healthy', b'Healthy', b'Healthy'],\n",
      "      dtype=object)>, 'Fee': <tf.Tensor: shape=(5,), dtype=int64, numpy=array([ 0,  0,  0, 20,  0], dtype=int64)>, 'PhotoAmt': <tf.Tensor: shape=(5,), dtype=int64, numpy=array([ 3, 11,  1,  1,  3], dtype=int64)>}\n",
      "-----------------------------------------------------------\n",
      "({'Type': TensorSpec(shape=(None,), dtype=tf.string, name=None), 'Age': TensorSpec(shape=(None,), dtype=tf.int64, name=None), 'Breed1': TensorSpec(shape=(None,), dtype=tf.string, name=None), 'Gender': TensorSpec(shape=(None,), dtype=tf.string, name=None), 'Color1': TensorSpec(shape=(None,), dtype=tf.string, name=None), 'Color2': TensorSpec(shape=(None,), dtype=tf.string, name=None), 'MaturitySize': TensorSpec(shape=(None,), dtype=tf.string, name=None), 'FurLength': TensorSpec(shape=(None,), dtype=tf.string, name=None), 'Vaccinated': TensorSpec(shape=(None,), dtype=tf.string, name=None), 'Sterilized': TensorSpec(shape=(None,), dtype=tf.string, name=None), 'Health': TensorSpec(shape=(None,), dtype=tf.string, name=None), 'Fee': TensorSpec(shape=(None,), dtype=tf.int64, name=None), 'PhotoAmt': TensorSpec(shape=(None,), dtype=tf.int64, name=None)}, TensorSpec(shape=(None,), dtype=tf.int32, name=None))\n"
     ]
    }
   ],
   "source": [
    "# {a=([1,2,3], b=[4,5,6], c=[7,8,9]}, [10,11,12])\n",
    "print(next(iter(train_ds)))\n",
    "print(\"-----------------------------------------------------------\")\n",
    "# 这个[0]是取出元组的第一项，(a=[1,2,3], b=[4,5,6], c=[7,8,9]}\n",
    "print(next(iter(train_ds))[0])\n",
    "# We will use this batch to demonstrate several types of feature columns\n",
    "example_batch = next(iter(train_ds))[0]\n",
    "print(\"-----------------------------------------------------------\")\n",
    "print(train_ds.element_spec)"
   ]
  },
  {
   "cell_type": "code",
   "execution_count": 11,
   "id": "d40f819bed486ef7",
   "metadata": {
    "collapsed": false,
    "ExecuteTime": {
     "end_time": "2024-05-10T14:46:18.613893800Z",
     "start_time": "2024-05-10T14:46:18.577947400Z"
    }
   },
   "outputs": [],
   "source": [
    "# A utility method to create a feature column\n",
    "# and to transform a batch of data\n",
    "def demo(feature_column):\n",
    "  feature_layer = layers.DenseFeatures(feature_column)\n",
    "  print(feature_layer(example_batch).numpy())"
   ]
  },
  {
   "cell_type": "markdown",
   "id": "528478dc004e17c",
   "metadata": {
    "collapsed": false
   },
   "source": [
    "#### numeric_column 与 bucketized_column"
   ]
  },
  {
   "cell_type": "code",
   "execution_count": 12,
   "id": "bf9e1f4f637842e4",
   "metadata": {
    "collapsed": false,
    "ExecuteTime": {
     "end_time": "2024-05-10T14:46:18.652861800Z",
     "start_time": "2024-05-10T14:46:18.594410900Z"
    }
   },
   "outputs": [
    {
     "name": "stdout",
     "output_type": "stream",
     "text": [
      "tf.Tensor(\n",
      "[[ 0.   0.   1.   0.   0.   0.   5. ]\n",
      " [ 1.   0.   0.   0.   0.   0.   6.4]\n",
      " [ 0.   0.   1.   0.   0.   0.  10.5]\n",
      " [ 0.   0.   1.   0.   0.   0.  13.6]\n",
      " [ 0.   0.   0.   1.   0.   0.  15.7]\n",
      " [ 0.   0.   1.   0.   0.   0.  19.9]\n",
      " [ 0.   0.   0.   0.   1.   0.  20.3]\n",
      " [ 0.   0.   0.   0.   0.   1.   0. ]], shape=(8, 7), dtype=float32)\n",
      "tf.Tensor(\n",
      "[[15.   5. ]\n",
      " [ 9.   6.4]\n",
      " [17.  10.5]\n",
      " [19.  13.6]\n",
      " [21.  15.7]\n",
      " [18.  19.9]\n",
      " [25.  20.3]\n",
      " [30.   0. ]], shape=(8, 2), dtype=float32)\n"
     ]
    }
   ],
   "source": [
    "data = {'a': [15, 9, 17, 19, 21, 18, 25, 30],\n",
    "   'b': [5.0, 6.4, 10.5, 13.6, 15.7, 19.9, 20.3 , 0.0]}\n",
    "a = tf.feature_column.numeric_column('a')\n",
    "b = tf.feature_column.numeric_column('b')\n",
    "a_buckets = tf.feature_column.bucketized_column(a,\n",
    "   boundaries=[10, 15, 20, 25, 30])\n",
    "\n",
    "feature_layer1 = tf.keras.layers.DenseFeatures([a_buckets, b])\n",
    "feature_layer2 = tf.keras.layers.DenseFeatures([a, b])\n",
    "print(feature_layer1(data))    ## shape : 8*2\n",
    "print(feature_layer2(data))    ## shape : 8*2"
   ]
  },
  {
   "cell_type": "code",
   "execution_count": 13,
   "outputs": [
    {
     "name": "stdout",
     "output_type": "stream",
     "text": [
      "[[2.]\n",
      " [5.]\n",
      " [3.]\n",
      " [1.]\n",
      " [1.]]\n"
     ]
    }
   ],
   "source": [
    "# 特征列定义\n",
    "photo_count = feature_column.numeric_column('PhotoAmt')\n",
    "# 根据特征列定义转换层\n",
    "feature_layer = layers.DenseFeatures(photo_count)\n",
    "# 将数据转化成能够输入模型的参数，tensor\n",
    "print(feature_layer(example_batch).numpy())"
   ],
   "metadata": {
    "collapsed": false,
    "ExecuteTime": {
     "end_time": "2024-05-10T14:46:18.691843300Z",
     "start_time": "2024-05-10T14:46:18.652861800Z"
    }
   },
   "id": "16b9a9172dec8178"
  },
  {
   "cell_type": "markdown",
   "source": [
    "#### 分类列"
   ],
   "metadata": {
    "collapsed": false
   },
   "id": "a7ae4dc24ea5d41f"
  },
  {
   "cell_type": "code",
   "execution_count": 14,
   "outputs": [
    {
     "name": "stdout",
     "output_type": "stream",
     "text": [
      "[[1. 0.]\n",
      " [1. 0.]\n",
      " [0. 1.]\n",
      " [0. 1.]\n",
      " [0. 1.]]\n"
     ]
    }
   ],
   "source": [
    "animal_type = feature_column.categorical_column_with_vocabulary_list(\n",
    "      'Type', ['Cat', 'Dog'])\n",
    "# 将类别转化成one-hot编码\n",
    "animal_type_one_hot = feature_column.indicator_column(animal_type)\n",
    "feature_layer = layers.DenseFeatures(animal_type_one_hot)\n",
    "print(feature_layer(example_batch).numpy())"
   ],
   "metadata": {
    "collapsed": false,
    "ExecuteTime": {
     "end_time": "2024-05-10T14:46:18.692860600Z",
     "start_time": "2024-05-10T14:46:18.669195200Z"
    }
   },
   "id": "cf820ea4d5d81cf"
  },
  {
   "cell_type": "markdown",
   "source": [
    "#### 嵌入列"
   ],
   "metadata": {
    "collapsed": false
   },
   "id": "c16ac9ca17d89371"
  },
  {
   "cell_type": "code",
   "outputs": [
    {
     "name": "stdout",
     "output_type": "stream",
     "text": [
      "[[ 0.10953157  0.08775736  0.13227281 -0.25318393 -0.02156519 -0.18340784\n",
      "  -0.5847811  -0.3848457 ]\n",
      " [ 0.03675685 -0.03041603 -0.04251684  0.26250032  0.3934432   0.34596962\n",
      "   0.06367955  0.26502386]\n",
      " [-0.28897867  0.15352938 -0.15458833 -0.03339379 -0.29553643 -0.6983391\n",
      "  -0.5609413   0.11312811]\n",
      " [-0.28897867  0.15352938 -0.15458833 -0.03339379 -0.29553643 -0.6983391\n",
      "  -0.5609413   0.11312811]\n",
      " [-0.28897867  0.15352938 -0.15458833 -0.03339379 -0.29553643 -0.6983391\n",
      "  -0.5609413   0.11312811]]\n"
     ]
    }
   ],
   "source": [
    "# Notice the input to the embedding column is the categorical column\n",
    "# we previously created\n",
    "breed1 = feature_column.categorical_column_with_vocabulary_list(\n",
    "      'Breed1', dataframe.Breed1.unique())\n",
    "# 每一个特征转化成一个8维的特征向量\n",
    "breed1_embedding = feature_column.embedding_column(breed1, dimension=8)\n",
    "feature_layer = layers.DenseFeatures(breed1_embedding)\n",
    "# 将数据转化成能够输入模型的参数，tensor\n",
    "print(feature_layer(example_batch).numpy())"
   ],
   "metadata": {
    "collapsed": false,
    "ExecuteTime": {
     "end_time": "2024-05-10T14:46:18.724667500Z",
     "start_time": "2024-05-10T14:46:18.683654400Z"
    }
   },
   "id": "5890fd177b2f8be8",
   "execution_count": 15
  },
  {
   "cell_type": "markdown",
   "source": [
    "#### 经过hash处理的特征列"
   ],
   "metadata": {
    "collapsed": false
   },
   "id": "8d9f0d2ab0b18fe5"
  },
  {
   "cell_type": "code",
   "outputs": [
    {
     "name": "stdout",
     "output_type": "stream",
     "text": [
      "['Tabby' 'Domestic Medium Hair' 'Mixed Breed' 'Domestic Short Hair'\n",
      " 'Domestic Long Hair' 'Terrier' 'Persian' 'Rottweiler'\n",
      " 'Jack Russell Terrier' 'Shih Tzu' 'Labrador Retriever' 'Silky Terrier'\n",
      " 'Bombay' 'Husky' 'Schnauzer' 'Golden Retriever' 'Siberian Husky' 'Collie'\n",
      " 'German Shepherd Dog' 'Siamese' 'Calico' 'American Staffordshire Terrier'\n",
      " 'Turkish Van' 'Doberman Pinscher' 'Oriental Short Hair' 'Beagle'\n",
      " 'Ragdoll' 'Cocker Spaniel' 'Poodle' 'Black Labrador Retriever' 'Bengal'\n",
      " 'Shar Pei' 'Spitz' 'Birman' 'Belgian Shepherd Malinois'\n",
      " 'American Shorthair' 'Belgian Shepherd Laekenois' '0'\n",
      " 'Jack Russell Terrier (Parson Russell Terrier)' 'Shepherd' 'Corgi'\n",
      " 'Pit Bull Terrier' 'Oriental Tabby' 'Miniature Pinscher' 'Manx' 'Boxer'\n",
      " 'Dachshund' 'Chihuahua' 'Snowshoe' 'Rat Terrier' 'Tiger' 'Silver'\n",
      " 'Maine Coon' 'German Pinscher' 'Russian Blue' 'Tuxedo' 'Lhasa Apso'\n",
      " 'Pomeranian' 'Whippet' 'English Bulldog' 'Bull Terrier'\n",
      " 'Yellow Labrador Retriever' 'Dalmatian'\n",
      " 'West Highland White Terrier Westie' 'Pekingese' 'Wheaten Terrier'\n",
      " 'Havana' 'Egyptian Mau' 'Tortoiseshell' 'American Curl'\n",
      " 'British Shorthair' 'Cavalier King Charles Spaniel' 'Munsterlander'\n",
      " 'Singapura' 'Turkish Angora' 'Maltese' 'Applehead Siamese'\n",
      " 'Oriental Long Hair' 'Standard Poodle' 'Samoyed' 'Mountain Dog'\n",
      " 'Coonhound' 'Japanese Bobtail' 'Abyssinian' 'Bobtail'\n",
      " 'Glen of Imaal Terrier' 'Yorkshire Terrier Yorkie'\n",
      " 'English Cocker Spaniel' 'Siberian' 'Border Collie' 'Field Spaniel'\n",
      " 'Australian Terrier' 'Burmese' 'Pug' 'Toy Fox Terrier' 'French Bulldog'\n",
      " 'Norwegian Forest Cat' 'Boston Terrier' 'Australian Kelpie'\n",
      " 'Basset Hound' 'Belgian Shepherd Dog Sheepdog' 'Bullmastiff' 'Korat'\n",
      " 'Hound' 'Great Dane' 'American Wirehair' 'White German Shepherd'\n",
      " 'Burmilla' 'Ocicat' 'Saint Bernard' 'Javanese' 'Australian Shepherd'\n",
      " 'Retriever' 'Black Mouth Cur' 'Old English Sheepdog' 'Weimaraner'\n",
      " 'Chausie' 'Pointer' 'Staffordshire Bull Terrier' 'Dilute Tortoiseshell'\n",
      " 'Greyhound' 'Shetland Sheepdog Sheltie' 'Wirehaired Terrier'\n",
      " 'American Water Spaniel' 'Irish Setter' 'Flat-coated Retriever'\n",
      " 'Irish Wolfhound' 'Tonkinese' 'Nebelung' 'Irish Terrier'\n",
      " 'Bedlington Terrier' 'Cymric' 'American Bulldog' 'Mastiff' 'Akita'\n",
      " 'Basenji' 'Somali' 'English Springer Spaniel' 'Chow Chow' 'Shiba Inu'\n",
      " 'Rhodesian Ridgeback' 'Papillon' 'Setter' 'Chartreux' 'Dilute Calico'\n",
      " 'Fox Terrier' 'Balinese' 'Extra-Toes Cat (Hemingway Polydactyl)'\n",
      " 'English Pointer' 'Sphynx (hairless cat)' 'Lowchen' 'Kai Dog'\n",
      " 'German Spitz' 'Exotic Shorthair' 'Welsh Corgi' 'Himalayan'\n",
      " 'Manchester Terrier' 'Spaniel' 'Swedish Vallhund' 'Chinese Crested Dog'\n",
      " 'Cattle Dog' 'Torbie' 'Ragamuffin' 'Lancashire Heeler' 'Foxhound'\n",
      " 'Dutch Shepherd']\n",
      "[[0. 0. 0. 0. 0. 0. 0. 0. 0. 1.]\n",
      " [0. 0. 0. 0. 0. 0. 1. 0. 0. 0.]\n",
      " [0. 0. 0. 0. 0. 0. 0. 1. 0. 0.]\n",
      " [0. 0. 0. 0. 0. 0. 0. 1. 0. 0.]\n",
      " [0. 0. 0. 0. 0. 0. 0. 1. 0. 0.]]\n"
     ]
    }
   ],
   "source": [
    "print(dataframe.Breed1.unique())\n",
    "# 将Bread1，映射到10个桶中\n",
    "breed1_hashed = feature_column.categorical_column_with_hash_bucket(\n",
    "      'Breed1', hash_bucket_size=10)\n",
    "# 将编码转化成独热编码\n",
    "bread1_one_hot = feature_column.indicator_column(breed1_hashed)\n",
    "feature_layer = layers.DenseFeatures(bread1_one_hot)\n",
    "print(feature_layer(example_batch).numpy())"
   ],
   "metadata": {
    "collapsed": false,
    "ExecuteTime": {
     "end_time": "2024-05-10T14:54:07.689737700Z",
     "start_time": "2024-05-10T14:54:07.665069300Z"
    }
   },
   "id": "caab70261ae7fbce",
   "execution_count": 18
  },
  {
   "cell_type": "code",
   "outputs": [
    {
     "name": "stdout",
     "output_type": "stream",
     "text": [
      "[[ 0.15477292  0.09464832 -0.17725372  0.15257654  0.11707681  0.06741592\n",
      "  -0.12350787 -0.0180659  -0.3225762   0.10277971 -0.00291276  0.0645194\n",
      "  -0.01811451  0.06048112  0.07542967  0.06035279]\n",
      " [ 0.15477294  0.09464832 -0.17725371  0.15257654  0.11707679  0.06741593\n",
      "  -0.12350788 -0.0180659  -0.32257617  0.10277971 -0.00291276  0.0645194\n",
      "  -0.01811451  0.06048112  0.07542967  0.06035279]\n",
      " [ 0.15477294  0.09464832 -0.17725371  0.15257654  0.11707681  0.06741592\n",
      "  -0.12350788 -0.0180659  -0.3225762   0.10277971 -0.00291276  0.0645194\n",
      "  -0.01811451  0.06048112  0.07542967  0.06035279]]\n"
     ]
    }
   ],
   "source": [
    "# api的案例,10000个桶，最后转化成维度为16的embedding向量\n",
    "keywords = tf.feature_column.categorical_column_with_hash_bucket(\"keywords\",\n",
    "10000)\n",
    "keywords_embedded = tf.feature_column.embedding_column(keywords, 16)\n",
    "columns = [keywords_embedded]\n",
    "# 这个特征的tensor：shape = (3, 5)\n",
    "features = {'keywords': tf.constant([['Tensorflow', 'Keras', 'RNN', 'LSTM',\n",
    "'CNN'], ['LSTM', 'CNN', 'Tensorflow', 'Keras', 'RNN'], ['CNN', 'Tensorflow',\n",
    "'LSTM', 'Keras', 'RNN']])}\n",
    "input_layer = tf.keras.layers.DenseFeatures(columns)\n",
    "# 这个特征：shap = (3, 16)\n",
    "# 当您将 keywords 特征列转换为 keywords_embedded 嵌入特征列时，TensorFlow 会将每个原始的 5 维特征向量映射到一个 16 维的嵌入向量。\n",
    "# 这是嵌入层的作用，它会学习如何将原始的稀疏特征表示（如单词或类别）转换为密集的低维嵌入表示，以便模型更好地理解和泛化\n",
    "dense_tensor = input_layer(features)\n",
    "print(dense_tensor.numpy())"
   ],
   "metadata": {
    "collapsed": false,
    "ExecuteTime": {
     "end_time": "2024-05-10T15:01:36.004057800Z",
     "start_time": "2024-05-10T14:59:30.947802Z"
    }
   },
   "id": "44dd3f8607bfb6fe",
   "execution_count": 21
  },
  {
   "cell_type": "code",
   "outputs": [],
   "source": [],
   "metadata": {
    "collapsed": false
   },
   "id": "ddcda5e37751769a"
  }
 ],
 "metadata": {
  "kernelspec": {
   "display_name": "Python 3 (ipykernel)",
   "language": "python",
   "name": "python3"
  },
  "language_info": {
   "codemirror_mode": {
    "name": "ipython",
    "version": 3
   },
   "file_extension": ".py",
   "mimetype": "text/x-python",
   "name": "python",
   "nbconvert_exporter": "python",
   "pygments_lexer": "ipython3",
   "version": "3.8.18"
  }
 },
 "nbformat": 4,
 "nbformat_minor": 5
}
