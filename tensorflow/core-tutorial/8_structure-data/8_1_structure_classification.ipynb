{
 "cells": [
  {
   "cell_type": "code",
   "execution_count": 2,
   "id": "initial_id",
   "metadata": {
    "collapsed": true,
    "ExecuteTime": {
     "end_time": "2024-05-07T22:53:29.700263600Z",
     "start_time": "2024-05-07T22:53:27.160831600Z"
    }
   },
   "outputs": [],
   "source": [
    "import numpy as np\n",
    "import pandas as pd\n",
    "\n",
    "import tensorflow as tf\n",
    "\n",
    "from tensorflow import feature_column\n",
    "from keras import layers\n",
    "from sklearn.model_selection import train_test_split"
   ]
  },
  {
   "cell_type": "code",
   "outputs": [],
   "source": [
    "import pathlib\n",
    "\n",
    "dataset_url = 'http://storage.googleapis.com/download.tensorflow.org/data/petfinder-mini.zip'\n",
    "csv_file = 'datasets/petfinder-mini/petfinder-mini.csv'\n",
    "\n",
    "tf.keras.utils.get_file('petfinder_mini.zip', dataset_url,\n",
    "                        extract=True, cache_dir='.')\n",
    "dataframe = pd.read_csv(csv_file)"
   ],
   "metadata": {
    "collapsed": false,
    "ExecuteTime": {
     "end_time": "2024-05-07T22:53:29.777750Z",
     "start_time": "2024-05-07T22:53:29.702319600Z"
    }
   },
   "id": "c1a4098895ceda58",
   "execution_count": 3
  },
  {
   "cell_type": "code",
   "outputs": [
    {
     "name": "stdout",
     "output_type": "stream",
     "text": [
      "(11537, 15)\n"
     ]
    },
    {
     "data": {
      "text/plain": "  Type  Age                Breed1  Gender Color1    Color2 MaturitySize  \\\n0  Cat    3                 Tabby    Male  Black     White        Small   \n1  Cat    1  Domestic Medium Hair    Male  Black     Brown       Medium   \n2  Dog    1           Mixed Breed    Male  Brown     White       Medium   \n3  Dog    4           Mixed Breed  Female  Black     Brown       Medium   \n4  Dog    1           Mixed Breed    Male  Black  No Color       Medium   \n\n  FurLength Vaccinated Sterilized   Health  Fee  \\\n0     Short         No         No  Healthy  100   \n1    Medium   Not Sure   Not Sure  Healthy    0   \n2    Medium        Yes         No  Healthy    0   \n3     Short        Yes         No  Healthy  150   \n4     Short         No         No  Healthy    0   \n\n                                         Description  PhotoAmt  AdoptionSpeed  \n0  Nibble is a 3+ month old ball of cuteness. He ...         1              2  \n1  I just found it alone yesterday near my apartm...         2              0  \n2  Their pregnant mother was dumped by her irresp...         7              3  \n3  Good guard dog, very alert, active, obedience ...         8              2  \n4  This handsome yet cute boy is up for adoption....         3              2  ",
      "text/html": "<div>\n<style scoped>\n    .dataframe tbody tr th:only-of-type {\n        vertical-align: middle;\n    }\n\n    .dataframe tbody tr th {\n        vertical-align: top;\n    }\n\n    .dataframe thead th {\n        text-align: right;\n    }\n</style>\n<table border=\"1\" class=\"dataframe\">\n  <thead>\n    <tr style=\"text-align: right;\">\n      <th></th>\n      <th>Type</th>\n      <th>Age</th>\n      <th>Breed1</th>\n      <th>Gender</th>\n      <th>Color1</th>\n      <th>Color2</th>\n      <th>MaturitySize</th>\n      <th>FurLength</th>\n      <th>Vaccinated</th>\n      <th>Sterilized</th>\n      <th>Health</th>\n      <th>Fee</th>\n      <th>Description</th>\n      <th>PhotoAmt</th>\n      <th>AdoptionSpeed</th>\n    </tr>\n  </thead>\n  <tbody>\n    <tr>\n      <th>0</th>\n      <td>Cat</td>\n      <td>3</td>\n      <td>Tabby</td>\n      <td>Male</td>\n      <td>Black</td>\n      <td>White</td>\n      <td>Small</td>\n      <td>Short</td>\n      <td>No</td>\n      <td>No</td>\n      <td>Healthy</td>\n      <td>100</td>\n      <td>Nibble is a 3+ month old ball of cuteness. He ...</td>\n      <td>1</td>\n      <td>2</td>\n    </tr>\n    <tr>\n      <th>1</th>\n      <td>Cat</td>\n      <td>1</td>\n      <td>Domestic Medium Hair</td>\n      <td>Male</td>\n      <td>Black</td>\n      <td>Brown</td>\n      <td>Medium</td>\n      <td>Medium</td>\n      <td>Not Sure</td>\n      <td>Not Sure</td>\n      <td>Healthy</td>\n      <td>0</td>\n      <td>I just found it alone yesterday near my apartm...</td>\n      <td>2</td>\n      <td>0</td>\n    </tr>\n    <tr>\n      <th>2</th>\n      <td>Dog</td>\n      <td>1</td>\n      <td>Mixed Breed</td>\n      <td>Male</td>\n      <td>Brown</td>\n      <td>White</td>\n      <td>Medium</td>\n      <td>Medium</td>\n      <td>Yes</td>\n      <td>No</td>\n      <td>Healthy</td>\n      <td>0</td>\n      <td>Their pregnant mother was dumped by her irresp...</td>\n      <td>7</td>\n      <td>3</td>\n    </tr>\n    <tr>\n      <th>3</th>\n      <td>Dog</td>\n      <td>4</td>\n      <td>Mixed Breed</td>\n      <td>Female</td>\n      <td>Black</td>\n      <td>Brown</td>\n      <td>Medium</td>\n      <td>Short</td>\n      <td>Yes</td>\n      <td>No</td>\n      <td>Healthy</td>\n      <td>150</td>\n      <td>Good guard dog, very alert, active, obedience ...</td>\n      <td>8</td>\n      <td>2</td>\n    </tr>\n    <tr>\n      <th>4</th>\n      <td>Dog</td>\n      <td>1</td>\n      <td>Mixed Breed</td>\n      <td>Male</td>\n      <td>Black</td>\n      <td>No Color</td>\n      <td>Medium</td>\n      <td>Short</td>\n      <td>No</td>\n      <td>No</td>\n      <td>Healthy</td>\n      <td>0</td>\n      <td>This handsome yet cute boy is up for adoption....</td>\n      <td>3</td>\n      <td>2</td>\n    </tr>\n  </tbody>\n</table>\n</div>"
     },
     "execution_count": 4,
     "metadata": {},
     "output_type": "execute_result"
    }
   ],
   "source": [
    "print(dataframe.shape)\n",
    "dataframe.head()"
   ],
   "metadata": {
    "collapsed": false,
    "ExecuteTime": {
     "end_time": "2024-05-07T22:53:29.801342600Z",
     "start_time": "2024-05-07T22:53:29.777750Z"
    }
   },
   "id": "a4aec17bac140d44",
   "execution_count": 4
  },
  {
   "cell_type": "markdown",
   "source": [
    "列\t描述\t特征类型\t数据类型\n",
    "Type\t动物类型（狗、猫）\t分类\t字符串\n",
    "Age\t宠物年龄\t数值\t整数\n",
    "Breed1\t宠物的主要品种\t分类\t字符串\n",
    "Color1\t宠物的颜色 1\t分类\t字符串\n",
    "Color2\t宠物的颜色 2\t分类\t字符串\n",
    "MaturitySize\t成年个体大小\t分类\t字符串\n",
    "FurLength\t毛发长度\t分类\t字符串\n",
    "Vaccinated\t宠物已接种疫苗\t分类\t字符串\n",
    "Sterilized\t宠物已绝育\t分类\t字符串\n",
    "Health\t健康状况\t分类\t字符串\n",
    "Fee\t领养费\t数值\t整数\n",
    "Description\t关于此宠物的简介\t文本\t字符串\n",
    "PhotoAmt\t为该宠物上传的照片总数\t数值\t整数\n",
    "AdoptionSpeed\t领养速度\t分类\t整数"
   ],
   "metadata": {
    "collapsed": false
   },
   "id": "640452d9a7333991"
  },
  {
   "cell_type": "markdown",
   "source": [
    "## 构造数据"
   ],
   "metadata": {
    "collapsed": false
   },
   "id": "5c820d1794d03e22"
  },
  {
   "cell_type": "code",
   "outputs": [],
   "source": [
    "# In the original dataset \"4\" indicates the pet was not adopted. 4表示未被领养\n",
    "# np.where 像推导式\n",
    "dataframe['target'] = np.where(dataframe['AdoptionSpeed']==4, 0, 1)\n",
    "\n",
    "# Drop un-used columns.\n",
    "dataframe = dataframe.drop(columns=['AdoptionSpeed', 'Description'])"
   ],
   "metadata": {
    "collapsed": false,
    "ExecuteTime": {
     "end_time": "2024-05-07T22:53:29.838856800Z",
     "start_time": "2024-05-07T22:53:29.795192300Z"
    }
   },
   "id": "fa7e7b243c61ee3f",
   "execution_count": 5
  },
  {
   "cell_type": "markdown",
   "source": [
    "## 划分数据集"
   ],
   "metadata": {
    "collapsed": false
   },
   "id": "5f398fd0ae88781e"
  },
  {
   "cell_type": "code",
   "outputs": [
    {
     "name": "stdout",
     "output_type": "stream",
     "text": [
      "7383 train examples\n",
      "1846 validation examples\n",
      "2308 test examples\n"
     ]
    }
   ],
   "source": [
    "# 5分之1的测试集，如果不设置默认是0.25\n",
    "# 验证集是什么？\n",
    "train, test = train_test_split(dataframe, test_size=0.2)\n",
    "train, val = train_test_split(train, test_size=0.2)\n",
    "print(len(train), 'train examples')\n",
    "print(len(val), 'validation examples')\n",
    "print(len(test), 'test examples')"
   ],
   "metadata": {
    "collapsed": false,
    "ExecuteTime": {
     "end_time": "2024-05-07T22:53:29.838856800Z",
     "start_time": "2024-05-07T22:53:29.810024600Z"
    }
   },
   "id": "9c2bd8e46fa02dd8",
   "execution_count": 6
  },
  {
   "cell_type": "markdown",
   "source": [
    "## 解包，zip()与dict()"
   ],
   "metadata": {
    "collapsed": false
   },
   "id": "6e992b13d5385720"
  },
  {
   "cell_type": "code",
   "outputs": [
    {
     "name": "stdout",
     "output_type": "stream",
     "text": [
      "a解包 (1, 'a') (2, 'b') (3, 'c')\n",
      "b解包 [1, 2] [3, 4] [5, 6]\n",
      "zip迭代 [(1, 4), (2, 5), (3, 6)]\n",
      "[((1, 'a'),), ((2, 'b'),), ((3, 'c'),)]\n",
      "[((1, 'a'), [1, 2]), ((2, 'b'), [3, 4]), ((3, 'c'), [5, 6])]\n",
      "[(1, 2, 3), ('a', 'b', 'c')]\n",
      "dict:\n",
      "{'a': 'a', 'b': 'b', 't': 't'}\n",
      "{'one': 1, 'two': 2, 'three': 3}\n",
      "{'one': 1, 'two': 2, 'three': 3}\n",
      "{'x': 1, 'y': 2, 'z': 3}\n"
     ]
    }
   ],
   "source": [
    "## 数组解包\n",
    "a = [(1, 'a'), (2, 'b'), (3, 'c')]\n",
    "print(\"a解包\", *a)\n",
    "\n",
    "## 元组解包\n",
    "b = ([1, 2], [3, 4], [5, 6])\n",
    "print('b解包', *b)\n",
    "\n",
    "# zip() 函数用于将可迭代的对象作为参数，将对象中对应的元素打包成一个个元组，然后返回由这些元组组成的列表。\n",
    "print('zip迭代', list(zip([1,2,3], (4,5,6))))\n",
    "print(list(zip(a)))\n",
    "## zip迭代, 用迭代器，迭代a，b，然后每次迭代的东西组成一个元组\n",
    "print(list(zip(a, b)))\n",
    "\n",
    "## zip迭代，zip(*)，解包后迭代, 解包后可以理解成三个参数，等同于 zip((1, 'a'), (2, 'b'), (3, 'c'))\n",
    "print(list(zip(*a))) \n",
    "\n",
    "## dict创建一个字典 (https://www.runoob.com/python/python-func-dict.html),参数有三种\n",
    "## 其实如果是一个对象的话，会调用对象的 __dict__和，to_dict()进行转换成dict\n",
    "print('dict:')\n",
    "# 映射对象 也就是 a=b这种\n",
    "print(dict(a='a', b='b', t='t'))\n",
    "print(dict(zip(['one', 'two', 'three'], (1, 2, 3))))  # 这里的zip在进行两个遍历\n",
    "# 可遍历对象，遍历对象中必须只有两个元素\n",
    "print(dict([('one', 1), ('two', 2), ('three', 3)]))\n",
    "# dict([('one', 1, 2), ('two', 2, 3), ('three', 3, 4)]) # dictionary update sequence element #0 has length 3; 2 is required\n",
    "print(dict(list(zip(['x', 'y', 'z'], [1, 2, 3])))) #zip两个进行遍历，list转换成了列表，这里进行的是可遍历对象"
   ],
   "metadata": {
    "collapsed": false,
    "ExecuteTime": {
     "end_time": "2024-05-08T00:03:11.360975600Z",
     "start_time": "2024-05-08T00:03:11.347572600Z"
    }
   },
   "id": "c8bbd71229972f8d",
   "execution_count": 20
  },
  {
   "cell_type": "markdown",
   "source": [
    "## 创建输入流水线"
   ],
   "metadata": {
    "collapsed": false
   },
   "id": "351a3055566ba2fb"
  },
  {
   "cell_type": "code",
   "outputs": [
    {
     "name": "stdout",
     "output_type": "stream",
     "text": [
      "a\n",
      "b\n",
      "[({'Type': <tf.Tensor: shape=(), dtype=string, numpy=b'Cat'>, 'Age': <tf.Tensor: shape=(), dtype=int64, numpy=3>, 'Breed1': <tf.Tensor: shape=(), dtype=string, numpy=b'Tabby'>, 'Gender': <tf.Tensor: shape=(), dtype=string, numpy=b'Male'>, 'Color1': <tf.Tensor: shape=(), dtype=string, numpy=b'Black'>, 'Color2': <tf.Tensor: shape=(), dtype=string, numpy=b'White'>, 'MaturitySize': <tf.Tensor: shape=(), dtype=string, numpy=b'Small'>, 'FurLength': <tf.Tensor: shape=(), dtype=string, numpy=b'Short'>, 'Vaccinated': <tf.Tensor: shape=(), dtype=string, numpy=b'No'>, 'Sterilized': <tf.Tensor: shape=(), dtype=string, numpy=b'No'>, 'Health': <tf.Tensor: shape=(), dtype=string, numpy=b'Healthy'>, 'Fee': <tf.Tensor: shape=(), dtype=int64, numpy=100>, 'PhotoAmt': <tf.Tensor: shape=(), dtype=int64, numpy=1>}, <tf.Tensor: shape=(), dtype=int32, numpy=1>)]\n",
      "------------------------------------------------------------------------\n",
      "[({'Type': <tf.Tensor: shape=(3,), dtype=string, numpy=array([b'Cat', b'Cat', b'Dog'], dtype=object)>, 'Age': <tf.Tensor: shape=(3,), dtype=int64, numpy=array([3, 1, 1], dtype=int64)>, 'Breed1': <tf.Tensor: shape=(3,), dtype=string, numpy=array([b'Tabby', b'Domestic Medium Hair', b'Mixed Breed'], dtype=object)>, 'Gender': <tf.Tensor: shape=(3,), dtype=string, numpy=array([b'Male', b'Male', b'Male'], dtype=object)>, 'Color1': <tf.Tensor: shape=(3,), dtype=string, numpy=array([b'Black', b'Black', b'Brown'], dtype=object)>, 'Color2': <tf.Tensor: shape=(3,), dtype=string, numpy=array([b'White', b'Brown', b'White'], dtype=object)>, 'MaturitySize': <tf.Tensor: shape=(3,), dtype=string, numpy=array([b'Small', b'Medium', b'Medium'], dtype=object)>, 'FurLength': <tf.Tensor: shape=(3,), dtype=string, numpy=array([b'Short', b'Medium', b'Medium'], dtype=object)>, 'Vaccinated': <tf.Tensor: shape=(3,), dtype=string, numpy=array([b'No', b'Not Sure', b'Yes'], dtype=object)>, 'Sterilized': <tf.Tensor: shape=(3,), dtype=string, numpy=array([b'No', b'Not Sure', b'No'], dtype=object)>, 'Health': <tf.Tensor: shape=(3,), dtype=string, numpy=array([b'Healthy', b'Healthy', b'Healthy'], dtype=object)>, 'Fee': <tf.Tensor: shape=(3,), dtype=int64, numpy=array([100,   0,   0], dtype=int64)>, 'PhotoAmt': <tf.Tensor: shape=(3,), dtype=int64, numpy=array([1, 2, 7], dtype=int64)>}, <tf.Tensor: shape=(3,), dtype=int32, numpy=array([1, 1, 1])>)]\n",
      "------------------------------------------------------------------------\n"
     ]
    }
   ],
   "source": [
    "# 先测验一下数据输出\n",
    "test_dataframe = dataframe.copy()\n",
    "# 取出的是一个列\n",
    "# debug后会发现，dataframe是一个表格，series是一个列，dataframe是一堆的series组成的\n",
    "test_labels = test_dataframe.pop('target')\n",
    "\n",
    "# dict的遍历\n",
    "my_dict = {'a': 1, 'b': 2}\n",
    "for key in my_dict:\n",
    "    print(key)\n",
    "    \n",
    "# 会调用对象的to_dict()方法进行转换成dict，这是chargpt说的，此处用的并不是迭代特性\n",
    "# print(dict(dataframe))\n",
    "\n",
    "# from_tensor_slices可以去看，tf_data.ipynb, 在这里对每个可迭代的\n",
    "# dataset = tf.data.Dataset.from_tensor_slices(({\"a\": [1, 2], \"b\": [3, 4]}, {\"c\": [5, 6]}))\n",
    "# print(list(dataset.as_numpy_iterator()))\n",
    "\n",
    "# 这个参数是元组，就是对每一项进行拆分，最后合成元组，拆分后每一项都这个结构：{a=1, b=2, c=3}, label[i]\n",
    "ds = tf.data.Dataset.from_tensor_slices((dict(test_dataframe), test_labels))\n",
    "print(list(ds)[:1])\n",
    "\n",
    "print('------------------------------------------------------------------------')\n",
    "# 3个为一组 {a = [1,2,3], b = [4,5,6], c = [7,8,9]}, [1,2,3]\n",
    "ds = ds.batch(3)\n",
    "print(list(ds)[:1])\n",
    "\n",
    "print('------------------------------------------------------------------------')\n",
    "# 做个测验，直接对test_dataframe进行拆分的结果（Failed to convert a NumPy array to a Tensor (Unsupported object type int)）\n",
    "# ds1 = tf.data.Dataset.from_tensor_slices((test_dataframe, test_labels)) \n",
    "\n",
    "# A utility method to create a tf.data dataset from a Pandas Dataframe\n",
    "def df_to_dataset(dataframe, shuffle=True, batch_size=32):\n",
    "  dataframe = dataframe.copy()\n",
    "  labels = dataframe.pop('target')\n",
    "  ds = tf.data.Dataset.from_tensor_slices((dict(dataframe), labels))\n",
    "  if shuffle:\n",
    "    ds = ds.shuffle(buffer_size=len(dataframe))\n",
    "  ds = ds.batch(batch_size)\n",
    "  return ds\n",
    "\n",
    "batch_size = 5 # A small batch sized is used for demonstration purposes\n",
    "train_ds = df_to_dataset(train, batch_size=batch_size)\n",
    "val_ds = df_to_dataset(val, shuffle=False, batch_size=batch_size)\n",
    "test_ds = df_to_dataset(test, shuffle=False, batch_size=batch_size)"
   ],
   "metadata": {
    "collapsed": false,
    "ExecuteTime": {
     "end_time": "2024-05-07T23:05:08.609180600Z",
     "start_time": "2024-05-07T23:05:06.984755800Z"
    }
   },
   "id": "12fe2c87e77f7035",
   "execution_count": 13
  },
  {
   "cell_type": "markdown",
   "source": [
    "## 理解输入流水线"
   ],
   "metadata": {
    "collapsed": false
   },
   "id": "1d973ae0b72b7719"
  },
  {
   "cell_type": "code",
   "outputs": [
    {
     "name": "stdout",
     "output_type": "stream",
     "text": [
      "Every feature: ['Type', 'Age', 'Breed1', 'Gender', 'Color1', 'Color2', 'MaturitySize', 'FurLength', 'Vaccinated', 'Sterilized', 'Health', 'Fee', 'PhotoAmt']\n",
      "A batch of ages: tf.Tensor([ 3 36  4  1 24], shape=(5,), dtype=int64)\n",
      "A batch of targets: tf.Tensor([0 0 1 1 1], shape=(5,), dtype=int32)\n"
     ]
    }
   ],
   "source": [
    "for feature_batch, label_batch in train_ds.take(1):\n",
    "  print('Every feature:', list(feature_batch.keys()))\n",
    "  print('A batch of ages:', feature_batch['Age'])\n",
    "  print('A batch of targets:', label_batch )"
   ],
   "metadata": {
    "collapsed": false,
    "ExecuteTime": {
     "end_time": "2024-05-07T22:53:31.144883300Z",
     "start_time": "2024-05-07T22:53:31.105843800Z"
    }
   },
   "id": "3ba67690de297f33",
   "execution_count": 9
  },
  {
   "cell_type": "markdown",
   "source": [
    "## 演示几种特征列"
   ],
   "metadata": {
    "collapsed": false
   },
   "id": "133301b0fd6de7f0"
  },
  {
   "cell_type": "code",
   "outputs": [
    {
     "name": "stdout",
     "output_type": "stream",
     "text": [
      "({'Type': <tf.Tensor: shape=(5,), dtype=string, numpy=array([b'Dog', b'Cat', b'Dog', b'Cat', b'Dog'], dtype=object)>, 'Age': <tf.Tensor: shape=(5,), dtype=int64, numpy=array([ 4, 24,  2,  2,  3], dtype=int64)>, 'Breed1': <tf.Tensor: shape=(5,), dtype=string, numpy=\n",
      "array([b'Mixed Breed', b'Domestic Short Hair', b'Mixed Breed',\n",
      "       b'Domestic Short Hair', b'Mixed Breed'], dtype=object)>, 'Gender': <tf.Tensor: shape=(5,), dtype=string, numpy=array([b'Female', b'Female', b'Male', b'Female', b'Female'], dtype=object)>, 'Color1': <tf.Tensor: shape=(5,), dtype=string, numpy=array([b'Brown', b'Yellow', b'Brown', b'Brown', b'Brown'], dtype=object)>, 'Color2': <tf.Tensor: shape=(5,), dtype=string, numpy=\n",
      "array([b'No Color', b'No Color', b'No Color', b'Gray', b'Golden'],\n",
      "      dtype=object)>, 'MaturitySize': <tf.Tensor: shape=(5,), dtype=string, numpy=array([b'Medium', b'Medium', b'Medium', b'Small', b'Medium'], dtype=object)>, 'FurLength': <tf.Tensor: shape=(5,), dtype=string, numpy=array([b'Medium', b'Short', b'Medium', b'Short', b'Medium'], dtype=object)>, 'Vaccinated': <tf.Tensor: shape=(5,), dtype=string, numpy=array([b'No', b'Yes', b'No', b'No', b'No'], dtype=object)>, 'Sterilized': <tf.Tensor: shape=(5,), dtype=string, numpy=array([b'No', b'No', b'No', b'No', b'No'], dtype=object)>, 'Health': <tf.Tensor: shape=(5,), dtype=string, numpy=\n",
      "array([b'Healthy', b'Healthy', b'Healthy', b'Healthy', b'Healthy'],\n",
      "      dtype=object)>, 'Fee': <tf.Tensor: shape=(5,), dtype=int64, numpy=array([0, 0, 1, 0, 0], dtype=int64)>, 'PhotoAmt': <tf.Tensor: shape=(5,), dtype=int64, numpy=array([4, 6, 3, 4, 1], dtype=int64)>}, <tf.Tensor: shape=(5,), dtype=int32, numpy=array([0, 1, 1, 0, 0])>)\n",
      "-----------------------------------------------------------\n",
      "{'Type': <tf.Tensor: shape=(5,), dtype=string, numpy=array([b'Dog', b'Cat', b'Cat', b'Cat', b'Cat'], dtype=object)>, 'Age': <tf.Tensor: shape=(5,), dtype=int64, numpy=array([1, 2, 1, 4, 2], dtype=int64)>, 'Breed1': <tf.Tensor: shape=(5,), dtype=string, numpy=\n",
      "array([b'Mixed Breed', b'Domestic Short Hair', b'Domestic Long Hair',\n",
      "       b'Domestic Short Hair', b'Domestic Short Hair'], dtype=object)>, 'Gender': <tf.Tensor: shape=(5,), dtype=string, numpy=array([b'Male', b'Female', b'Female', b'Male', b'Female'], dtype=object)>, 'Color1': <tf.Tensor: shape=(5,), dtype=string, numpy=array([b'Brown', b'Black', b'Black', b'Black', b'Black'], dtype=object)>, 'Color2': <tf.Tensor: shape=(5,), dtype=string, numpy=array([b'Cream', b'Brown', b'Golden', b'No Color', b'White'], dtype=object)>, 'MaturitySize': <tf.Tensor: shape=(5,), dtype=string, numpy=array([b'Medium', b'Medium', b'Medium', b'Medium', b'Small'], dtype=object)>, 'FurLength': <tf.Tensor: shape=(5,), dtype=string, numpy=array([b'Short', b'Short', b'Medium', b'Short', b'Short'], dtype=object)>, 'Vaccinated': <tf.Tensor: shape=(5,), dtype=string, numpy=array([b'No', b'Yes', b'No', b'Yes', b'Not Sure'], dtype=object)>, 'Sterilized': <tf.Tensor: shape=(5,), dtype=string, numpy=array([b'No', b'No', b'No', b'Yes', b'Not Sure'], dtype=object)>, 'Health': <tf.Tensor: shape=(5,), dtype=string, numpy=\n",
      "array([b'Healthy', b'Healthy', b'Healthy', b'Minor Injury', b'Healthy'],\n",
      "      dtype=object)>, 'Fee': <tf.Tensor: shape=(5,), dtype=int64, numpy=array([ 0,  0, 50,  0,  0], dtype=int64)>, 'PhotoAmt': <tf.Tensor: shape=(5,), dtype=int64, numpy=array([5, 5, 5, 5, 5], dtype=int64)>}\n",
      "-----------------------------------------------------------\n",
      "({'Type': TensorSpec(shape=(None,), dtype=tf.string, name=None), 'Age': TensorSpec(shape=(None,), dtype=tf.int64, name=None), 'Breed1': TensorSpec(shape=(None,), dtype=tf.string, name=None), 'Gender': TensorSpec(shape=(None,), dtype=tf.string, name=None), 'Color1': TensorSpec(shape=(None,), dtype=tf.string, name=None), 'Color2': TensorSpec(shape=(None,), dtype=tf.string, name=None), 'MaturitySize': TensorSpec(shape=(None,), dtype=tf.string, name=None), 'FurLength': TensorSpec(shape=(None,), dtype=tf.string, name=None), 'Vaccinated': TensorSpec(shape=(None,), dtype=tf.string, name=None), 'Sterilized': TensorSpec(shape=(None,), dtype=tf.string, name=None), 'Health': TensorSpec(shape=(None,), dtype=tf.string, name=None), 'Fee': TensorSpec(shape=(None,), dtype=tf.int64, name=None), 'PhotoAmt': TensorSpec(shape=(None,), dtype=tf.int64, name=None)}, TensorSpec(shape=(None,), dtype=tf.int32, name=None))\n"
     ]
    }
   ],
   "source": [
    "# {a=([1,2,3], b=[4,5,6], c=[7,8,9]}, [10,11,12])\n",
    "print(next(iter(train_ds)))\n",
    "print(\"-----------------------------------------------------------\")\n",
    "# 这个[0]是取出元组的第一项，a=([1,2,3], b=[4,5,6], c=[7,8,9]}\n",
    "print(next(iter(train_ds))[0])\n",
    "# We will use this batch to demonstrate several types of feature columns\n",
    "example_batch = next(iter(train_ds))[0]\n",
    "print(\"-----------------------------------------------------------\")\n",
    "print(train_ds.element_spec)"
   ],
   "metadata": {
    "collapsed": false,
    "ExecuteTime": {
     "end_time": "2024-05-07T23:32:35.459619400Z",
     "start_time": "2024-05-07T23:32:35.405078500Z"
    }
   },
   "id": "7348981e77783702",
   "execution_count": 16
  },
  {
   "cell_type": "code",
   "outputs": [],
   "source": [
    "# A utility method to create a feature column\n",
    "# and to transform a batch of data\n",
    "def demo(feature_column):\n",
    "  feature_layer = layers.DenseFeatures(feature_column)\n",
    "  print(feature_layer(example_batch).numpy())"
   ],
   "metadata": {
    "collapsed": false
   },
   "id": "d40f819bed486ef7"
  },
  {
   "cell_type": "code",
   "outputs": [],
   "source": [],
   "metadata": {
    "collapsed": false
   },
   "id": "bf9e1f4f637842e4"
  }
 ],
 "metadata": {
  "kernelspec": {
   "display_name": "Python 3",
   "language": "python",
   "name": "python3"
  },
  "language_info": {
   "codemirror_mode": {
    "name": "ipython",
    "version": 2
   },
   "file_extension": ".py",
   "mimetype": "text/x-python",
   "name": "python",
   "nbconvert_exporter": "python",
   "pygments_lexer": "ipython2",
   "version": "2.7.6"
  }
 },
 "nbformat": 4,
 "nbformat_minor": 5
}
