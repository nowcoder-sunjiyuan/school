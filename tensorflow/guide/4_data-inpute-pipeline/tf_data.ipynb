{
 "cells": [
  {
   "cell_type": "code",
   "execution_count": 1,
   "id": "initial_id",
   "metadata": {
    "collapsed": true,
    "ExecuteTime": {
     "end_time": "2024-05-06T15:28:03.976887600Z",
     "start_time": "2024-05-06T15:27:59.869170500Z"
    }
   },
   "outputs": [],
   "source": [
    "import tensorflow as tf\n",
    "import pathlib\n",
    "import os\n",
    "import matplotlib.pyplot as plt\n",
    "import pandas as pd\n",
    "import numpy as np\n",
    "import tensorflow.data\n",
    "\n",
    "\n",
    "np.set_printoptions(precision=4)"
   ]
  },
  {
   "cell_type": "code",
   "outputs": [
    {
     "name": "stdout",
     "output_type": "stream",
     "text": [
      "tf.Tensor(\n",
      "[[1. 3.]\n",
      " [3. 7.]], shape=(2, 2), dtype=float32)\n"
     ]
    }
   ],
   "source": [
    "# tf.tensor, TF中基本都是张量在进行流转\n",
    "# Compute some values using a Tensor\n",
    "c = tf.constant([[1.0, 2.0], \n",
    "                 [3.0, 4.0]])\n",
    "d = tf.constant([[1.0, 1.0], \n",
    "                 [0.0, 1.0]])\n",
    "e = tf.matmul(c, d)\n",
    "print(e)"
   ],
   "metadata": {
    "collapsed": false,
    "ExecuteTime": {
     "end_time": "2024-05-06T15:28:04.014036900Z",
     "start_time": "2024-05-06T15:28:03.977924900Z"
    }
   },
   "id": "da0a5f60680b020f",
   "execution_count": 2
  },
  {
   "cell_type": "markdown",
   "source": [
    "## #tf.data.dataset.from_tensor_slices\n"
   ],
   "metadata": {
    "collapsed": false
   },
   "id": "b2d1455c69d659a1"
  },
  {
   "cell_type": "code",
   "outputs": [
    {
     "name": "stdout",
     "output_type": "stream",
     "text": [
      "[array([1, 2]), array([3, 4])]\n",
      "[(1, 3, 5), (2, 4, 6)]\n",
      "[array([1, 2]), array([3, 4]), array([5, 6])]\n",
      "[{'a': 1, 'b': 3}, {'a': 2, 'b': 4}]\n",
      "[({'a': 1, 'b': 3}, {'c': 5}), ({'a': 2, 'b': 4}, {'c': 6})]\n",
      "[({'a': {'aa': 1}, 'b': {'bb': 3}}, {'c': {'cc': 5}}), ({'a': {'aa': 2}, 'b': {'bb': 4}}, {'c': {'cc': 6}})]\n",
      "(array([[1, 3],\n",
      "       [2, 3]]), array([[b'A'],\n",
      "       [b'A']], dtype=object))\n",
      "(array([[2, 1],\n",
      "       [1, 2]]), array([[b'B'],\n",
      "       [b'B']], dtype=object))\n",
      "(array([[3, 3],\n",
      "       [3, 2]]), array([[b'A'],\n",
      "       [b'B']], dtype=object))\n"
     ]
    }
   ],
   "source": [
    "# 二位数组，拆除第一维\n",
    "dataset = tf.data.Dataset.from_tensor_slices([[1, 2], [3, 4]])\n",
    "print(list(dataset.as_numpy_iterator()))\n",
    "# 对于元组来说，拆除的是元组内部的每一项的维度，最后再次合成元组\n",
    "dataset = tf.data.Dataset.from_tensor_slices(([1, 2], [3, 4], [5, 6]))\n",
    "print(list(dataset.as_numpy_iterator()))\n",
    "# 拆除第一维，就是拆外面的数组\n",
    "dataset = tf.data.Dataset.from_tensor_slices([(1, 2), (3, 4), (5, 6)])\n",
    "print(list(dataset.as_numpy_iterator()))\n",
    "# 参数是dict，拆除dict的value的维度\n",
    "dataset = tf.data.Dataset.from_tensor_slices({\"a\": [1, 2], \"b\": [3, 4]})\n",
    "print(list(dataset.as_numpy_iterator()))\n",
    "# dataset = tf.data.Dataset.from_tensor_slices({\"a\": (1, 2), \"b\": (3, 4)}) 这个会报错，说明拆不了元组\n",
    "# 参数是元组，拆里面每一项，每一项是dict，拆dict的value， ({a:1, b:3},{c:5}) , ({a:2, b:4},{c:6})\n",
    "dataset = tf.data.Dataset.from_tensor_slices(({\"a\": [1, 2], \"b\": [3, 4]}, {\"c\": [5, 6]}))\n",
    "print(list(dataset.as_numpy_iterator()))\n",
    "# 太离谱了，这特么也可以 ({'a': {'aa': 1}, 'b': {'bb': 3}}, {'c': {'cc': 5}}), ({'a': {'aa': 2}, 'b': {'bb': 4}}, {'c': {'cc': 6}})\n",
    "dataset = tf.data.Dataset.from_tensor_slices(({\"a\": {\"aa\": [1, 2]}, \"b\": {\"bb\" : [3, 4]}}, {\"c\": {\"cc\": [5, 6]}}))\n",
    "print(list(dataset.as_numpy_iterator()))\n",
    "\n",
    "# Two tensors can be combined into one Dataset object.\n",
    "features = tf.constant([[1, 3], [2, 1], [3, 3]]) # ==> 3x2 tensor\n",
    "labels = tf.constant(['A', 'B', 'A']) # ==> 3x1 tensor\n",
    "dataset = tf.data.Dataset.from_tensor_slices((features, labels))\n",
    "# Both the features and the labels tensors can be converted\n",
    "# to a Dataset object separately and combined after.\n",
    "features_dataset = tf.data.Dataset.from_tensor_slices(features)\n",
    "labels_dataset = tf.data.Dataset.from_tensor_slices(labels)\n",
    "dataset = tf.data.Dataset.zip((features_dataset, labels_dataset))\n",
    "# A batched feature and label set can be converted to a Dataset\n",
    "# in similar fashion.\n",
    "batched_features = tf.constant([[[1, 3], [2, 3]],\n",
    "                                [[2, 1], [1, 2]],\n",
    "                                [[3, 3], [3, 2]]], shape=(3, 2, 2))\n",
    "batched_labels = tf.constant([['A', 'A'],\n",
    "                              ['B', 'B'],\n",
    "                              ['A', 'B']], shape=(3, 2, 1))\n",
    "dataset = tf.data.Dataset.from_tensor_slices((batched_features, batched_labels))\n",
    "for element in dataset.as_numpy_iterator():\n",
    "  print(element)\n"
   ],
   "metadata": {
    "collapsed": false,
    "ExecuteTime": {
     "end_time": "2024-05-06T17:35:13.737665200Z",
     "start_time": "2024-05-06T17:35:13.701861700Z"
    }
   },
   "id": "5be54ca97109353b",
   "execution_count": 19
  },
  {
   "cell_type": "markdown",
   "source": [],
   "metadata": {
    "collapsed": false
   },
   "id": "cea327c9f2e1964c"
  },
  {
   "cell_type": "code",
   "outputs": [],
   "source": [],
   "metadata": {
    "collapsed": false
   },
   "id": "dea8a671db231181"
  }
 ],
 "metadata": {
  "kernelspec": {
   "display_name": "Python 3",
   "language": "python",
   "name": "python3"
  },
  "language_info": {
   "codemirror_mode": {
    "name": "ipython",
    "version": 2
   },
   "file_extension": ".py",
   "mimetype": "text/x-python",
   "name": "python",
   "nbconvert_exporter": "python",
   "pygments_lexer": "ipython2",
   "version": "2.7.6"
  }
 },
 "nbformat": 4,
 "nbformat_minor": 5
}
