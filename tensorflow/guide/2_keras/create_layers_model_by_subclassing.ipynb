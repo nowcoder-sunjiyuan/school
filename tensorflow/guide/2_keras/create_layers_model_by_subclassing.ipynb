{
 "cells": [
  {
   "cell_type": "code",
   "execution_count": 1,
   "id": "initial_id",
   "metadata": {
    "collapsed": true,
    "ExecuteTime": {
     "end_time": "2024-05-23T09:32:22.792455Z",
     "start_time": "2024-05-23T09:32:18.862280Z"
    }
   },
   "outputs": [],
   "source": [
    "import tensorflow as tf\n",
    "from tensorflow import keras"
   ]
  },
  {
   "cell_type": "code",
   "execution_count": 2,
   "outputs": [],
   "source": [
    "class Linear(keras.layers.Layer):\n",
    "    def __init__(self, units=32, input_dim=32):\n",
    "        super(Linear, self).__init__()\n",
    "        w_init = tf.random_normal_initializer()\n",
    "        self.w = tf.Variable(\n",
    "            initial_value=w_init(shape=(input_dim, units), dtype=\"float32\"),\n",
    "            trainable=True,\n",
    "        )\n",
    "        b_init = tf.zeros_initializer()\n",
    "        self.b = tf.Variable(\n",
    "            initial_value=b_init(shape=(units,), dtype=\"float32\"), trainable=True\n",
    "        )\n",
    "\n",
    "    def call(self, inputs):\n",
    "        return tf.matmul(inputs, self.w) + self.b"
   ],
   "metadata": {
    "collapsed": false,
    "ExecuteTime": {
     "end_time": "2024-05-23T09:32:22.808885Z",
     "start_time": "2024-05-23T09:32:22.793854Z"
    }
   },
   "id": "599302e1b22a6a34"
  },
  {
   "cell_type": "markdown",
   "source": [
    "#### 层解读\n",
    "输入2，输出 4\n",
    "其中的一个样本：[x1, x2]\n",
    "\n",
    "层计算的输出过程\n",
    "xw + b = y （这里面 x，w，b，y 都是向量）\n",
    "\n",
    "w11x1 + w21x2 + b1 = y1\n",
    "w12x1 + w22x2 + b2 = y2\n",
    "w13x1 + w23x2 + b3 = y3\n",
    "w14x1 + w24x2 + b4 = y4\n",
    "\n",
    "参数矩阵 2 * 4\n",
    "w = \n",
    "w11  w12  w13  w14\n",
    "w21  w22  w23  w24\n",
    "\n",
    "x = 【x1  x2】\n",
    "\n",
    "样本数是 2，输出是 2 * 4"
   ],
   "metadata": {
    "collapsed": false
   },
   "id": "78f5316818f2f796"
  },
  {
   "cell_type": "code",
   "execution_count": 3,
   "outputs": [
    {
     "name": "stdout",
     "output_type": "stream",
     "text": [
      "tf.Tensor(\n",
      "[[ 0.0481258  -0.03530071  0.06538339  0.07707448]\n",
      " [ 0.0481258  -0.03530071  0.06538339  0.07707448]], shape=(2, 4), dtype=float32)\n"
     ]
    }
   ],
   "source": [
    "x = tf.ones((2, 2))\n",
    "linear_layer = Linear(4, 2)\n",
    "y = linear_layer(x)\n",
    "print(y)"
   ],
   "metadata": {
    "collapsed": false,
    "ExecuteTime": {
     "end_time": "2024-05-23T09:32:22.848185Z",
     "start_time": "2024-05-23T09:32:22.833262Z"
    }
   },
   "id": "226a587bfd441ce4"
  },
  {
   "cell_type": "code",
   "execution_count": null,
   "outputs": [],
   "source": [
    "class Linear(keras.layers.Layer):\n",
    "    def __init__(self, units=32, input_dim=32):\n",
    "        super(Linear, self).__init__()\n",
    "        self.w = self.add_weight(\n",
    "            shape=(input_dim, units), initializer=\"random_normal\", trainable=True\n",
    "        )\n",
    "        self.b = self.add_weight(shape=(units,), initializer=\"zeros\", trainable=True)\n",
    "\n",
    "    def call(self, inputs):\n",
    "        return tf.matmul(inputs, self.w) + self.b\n",
    "\n",
    "\n",
    "x = tf.ones((2, 2))\n",
    "linear_layer = Linear(4, 2)\n",
    "y = linear_layer(x)\n",
    "print(y)"
   ],
   "metadata": {
    "collapsed": false
   },
   "id": "4a45e644d499d5cd"
  }
 ],
 "metadata": {
  "kernelspec": {
   "display_name": "Python 3",
   "language": "python",
   "name": "python3"
  },
  "language_info": {
   "codemirror_mode": {
    "name": "ipython",
    "version": 2
   },
   "file_extension": ".py",
   "mimetype": "text/x-python",
   "name": "python",
   "nbconvert_exporter": "python",
   "pygments_lexer": "ipython2",
   "version": "2.7.6"
  }
 },
 "nbformat": 4,
 "nbformat_minor": 5
}
