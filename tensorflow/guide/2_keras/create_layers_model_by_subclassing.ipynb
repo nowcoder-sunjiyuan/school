{
 "cells": [
  {
   "cell_type": "code",
   "execution_count": 90,
   "id": "initial_id",
   "metadata": {
    "ExecuteTime": {
     "end_time": "2024-05-24T08:13:53.926182Z",
     "start_time": "2024-05-24T08:13:53.914247Z"
    },
    "collapsed": true,
    "jupyter": {
     "outputs_hidden": true
    }
   },
   "outputs": [],
   "source": [
    "import tensorflow as tf\n",
    "from tensorflow import keras"
   ]
  },
  {
   "cell_type": "code",
   "execution_count": 91,
   "id": "599302e1b22a6a34",
   "metadata": {
    "ExecuteTime": {
     "end_time": "2024-05-24T08:13:53.984402Z",
     "start_time": "2024-05-24T08:13:53.919691Z"
    },
    "collapsed": false
   },
   "outputs": [],
   "source": [
    "class Linear(keras.layers.Layer):\n",
    "    def __init__(self, units=32, input_dim=32):\n",
    "        super(Linear, self).__init__()\n",
    "        w_init = tf.random_normal_initializer()\n",
    "        self.w = tf.Variable(\n",
    "            initial_value=w_init(shape=(input_dim, units), dtype=\"float32\"),\n",
    "            trainable=True,\n",
    "        )\n",
    "        b_init = tf.zeros_initializer()\n",
    "        self.b = tf.Variable(\n",
    "            initial_value=b_init(shape=(units,), dtype=\"float32\"), trainable=True\n",
    "        )\n",
    "\n",
    "    def call(self, inputs):\n",
    "        return tf.matmul(inputs, self.w) + self.b"
   ]
  },
  {
   "cell_type": "markdown",
   "id": "78f5316818f2f796",
   "metadata": {
    "collapsed": false
   },
   "source": [
    "## 层解读\n",
    "输入2，输出 4\n",
    "其中的一个样本：[x1, x2]\n",
    "\n",
    "层计算的输出过程\n",
    "xw + b = y （这里面 x，w，b，y 都是向量）\n",
    "\n",
    "w11x1 + w21x2 + b1 = y1\n",
    "w12x1 + w22x2 + b2 = y2\n",
    "w13x1 + w23x2 + b3 = y3\n",
    "w14x1 + w24x2 + b4 = y4\n",
    "\n",
    "参数矩阵 2 * 4\n",
    "w = \n",
    "w11  w12  w13  w14\n",
    "w21  w22  w23  w24\n",
    "\n",
    "x = 【x1  x2】\n",
    "\n",
    "样本数是 2，输出是 2 * 4"
   ]
  },
  {
   "cell_type": "code",
   "execution_count": 92,
   "id": "226a587bfd441ce4",
   "metadata": {
    "ExecuteTime": {
     "end_time": "2024-05-24T08:13:54.012548Z",
     "start_time": "2024-05-24T08:13:53.923691Z"
    },
    "collapsed": false
   },
   "outputs": [
    {
     "name": "stdout",
     "output_type": "stream",
     "text": [
      "tf.Tensor(\n",
      "[[ 0.01134215  0.02492263 -0.06186645 -0.00021622]\n",
      " [ 0.01134215  0.02492263 -0.06186645 -0.00021622]], shape=(2, 4), dtype=float32)\n"
     ]
    }
   ],
   "source": [
    "x = tf.ones((2, 2))\n",
    "linear_layer = Linear(4, 2)\n",
    "y = linear_layer(x)\n",
    "print(y)"
   ]
  },
  {
   "cell_type": "markdown",
   "id": "cb5d89c077336759",
   "metadata": {
    "collapsed": false
   },
   "source": [
    "## 层中可以嵌套，可递归组合"
   ]
  },
  {
   "cell_type": "code",
   "execution_count": 93,
   "id": "e11012defff7ac20",
   "metadata": {
    "ExecuteTime": {
     "end_time": "2024-05-24T08:13:54.013723Z",
     "start_time": "2024-05-24T08:13:53.963239Z"
    },
    "collapsed": false
   },
   "outputs": [],
   "source": [
    "## 定义新的线性层\n",
    "class Linear(keras.layers.Layer):\n",
    "    def __init__(self, units=32):\n",
    "        print('Linear __init__:' + str(units))\n",
    "        super(Linear, self).__init__()\n",
    "        self.units = units\n",
    "\n",
    "    def build(self, input_shape):\n",
    "        print('Linear build:' + str(input_shape))\n",
    "        self.w = self.add_weight(\n",
    "            shape=(input_shape[-1], self.units),\n",
    "            initializer=\"random_normal\",\n",
    "            trainable=True,\n",
    "        )\n",
    "        self.b = self.add_weight(\n",
    "            shape=(self.units,), initializer=\"random_normal\", trainable=True\n",
    "        )\n",
    "\n",
    "    def call(self, inputs):\n",
    "        print('Linear call:' + str(inputs))\n",
    "        return tf.matmul(inputs, self.w) + self.b"
   ]
  },
  {
   "cell_type": "code",
   "execution_count": 94,
   "id": "55f5b4d4d9af3cbb",
   "metadata": {
    "ExecuteTime": {
     "end_time": "2024-05-24T08:13:54.013792Z",
     "start_time": "2024-05-24T08:13:53.966961Z"
    },
    "collapsed": false
   },
   "outputs": [],
   "source": [
    "class MLPBlock(keras.layers.Layer):\n",
    "    def __init__(self):\n",
    "        print('MLPBlock __init__')\n",
    "        super(MLPBlock, self).__init__()\n",
    "        self.linear_1 = Linear(32)\n",
    "        self.linear_2 = Linear(32)\n",
    "        self.linear_3 = Linear(1)\n",
    "\n",
    "    def call(self, inputs):\n",
    "        print('MLPBlock call: ' + str(inputs.shape))\n",
    "        x = self.linear_1(inputs)\n",
    "        x = tf.nn.relu(x)\n",
    "        x = self.linear_2(x)\n",
    "        x = tf.nn.relu(x)\n",
    "        return self.linear_3(x)"
   ]
  },
  {
   "cell_type": "markdown",
   "id": "162057bafcdf215d",
   "metadata": {
    "collapsed": false
   },
   "source": [
    "## 层的输入的思考\n",
    "输入是 3, 64\n",
    "模型是 64, 32, 32, 1\n",
    "模型相乘：矩阵 (3, 64)与 (64, 32)相乘，结果形状是 3,32\n",
    "思考：\n",
    "   假如输入是(64,), 64个特征，样本数量未知，结果是(32,)也就是最后产生的是：none * 32个数据\n",
    "现在输入是(3, 64), 理解成 3 个特征，每个特征 64位。也可以理解成 3 组的 64个特征。最后产生 none * 3 * 32个数据"
   ]
  },
  {
   "cell_type": "code",
   "execution_count": 95,
   "id": "65012c89a023e616",
   "metadata": {
    "ExecuteTime": {
     "end_time": "2024-05-24T08:13:54.036840Z",
     "start_time": "2024-05-24T08:13:53.971231Z"
    },
    "collapsed": false
   },
   "outputs": [
    {
     "name": "stdout",
     "output_type": "stream",
     "text": [
      "MLPBlock __init__\n",
      "Linear __init__:32\n",
      "Linear __init__:32\n",
      "Linear __init__:1\n",
      "MLPBlock call: (3, 64)\n",
      "Linear build:(3, 64)\n",
      "Linear call:Tensor(\"Placeholder:0\", shape=(3, 64), dtype=float32)\n",
      "Linear build:(3, 32)\n",
      "Linear call:Tensor(\"mlp_block_15/Relu:0\", shape=(3, 32), dtype=float32)\n",
      "Linear build:(3, 32)\n",
      "Linear call:Tensor(\"mlp_block_15/Relu_1:0\", shape=(3, 32), dtype=float32)\n",
      "MLPBlock call: (3, 64)\n",
      "Linear call:tf.Tensor(\n",
      "[[1. 1. 1. 1. 1. 1. 1. 1. 1. 1. 1. 1. 1. 1. 1. 1. 1. 1. 1. 1. 1. 1. 1. 1.\n",
      "  1. 1. 1. 1. 1. 1. 1. 1. 1. 1. 1. 1. 1. 1. 1. 1. 1. 1. 1. 1. 1. 1. 1. 1.\n",
      "  1. 1. 1. 1. 1. 1. 1. 1. 1. 1. 1. 1. 1. 1. 1. 1.]\n",
      " [1. 1. 1. 1. 1. 1. 1. 1. 1. 1. 1. 1. 1. 1. 1. 1. 1. 1. 1. 1. 1. 1. 1. 1.\n",
      "  1. 1. 1. 1. 1. 1. 1. 1. 1. 1. 1. 1. 1. 1. 1. 1. 1. 1. 1. 1. 1. 1. 1. 1.\n",
      "  1. 1. 1. 1. 1. 1. 1. 1. 1. 1. 1. 1. 1. 1. 1. 1.]\n",
      " [1. 1. 1. 1. 1. 1. 1. 1. 1. 1. 1. 1. 1. 1. 1. 1. 1. 1. 1. 1. 1. 1. 1. 1.\n",
      "  1. 1. 1. 1. 1. 1. 1. 1. 1. 1. 1. 1. 1. 1. 1. 1. 1. 1. 1. 1. 1. 1. 1. 1.\n",
      "  1. 1. 1. 1. 1. 1. 1. 1. 1. 1. 1. 1. 1. 1. 1. 1.]], shape=(3, 64), dtype=float32)\n",
      "Linear call:tf.Tensor(\n",
      "[[0.32846612 0.         0.         0.25488323 0.42846125 0.3200583\n",
      "  0.4704199  0.         0.1429382  0.         0.         0.\n",
      "  0.         0.         0.12348491 0.         0.         0.\n",
      "  0.3143397  0.43942988 0.18090884 0.         0.         0.14887483\n",
      "  0.         0.         0.13126454 0.34480458 0.03771627 0.74189156\n",
      "  0.18520874 0.38249266]\n",
      " [0.32846612 0.         0.         0.25488323 0.42846125 0.3200583\n",
      "  0.4704199  0.         0.1429382  0.         0.         0.\n",
      "  0.         0.         0.12348491 0.         0.         0.\n",
      "  0.3143397  0.43942988 0.18090884 0.         0.         0.14887483\n",
      "  0.         0.         0.13126454 0.34480458 0.03771627 0.74189156\n",
      "  0.18520874 0.38249266]\n",
      " [0.32846612 0.         0.         0.25488323 0.42846125 0.3200583\n",
      "  0.4704199  0.         0.1429382  0.         0.         0.\n",
      "  0.         0.         0.12348491 0.         0.         0.\n",
      "  0.3143397  0.43942988 0.18090884 0.         0.         0.14887483\n",
      "  0.         0.         0.13126454 0.34480458 0.03771627 0.74189156\n",
      "  0.18520874 0.38249266]], shape=(3, 32), dtype=float32)\n",
      "Linear call:tf.Tensor(\n",
      "[[0.04553211 0.         0.08770423 0.2573813  0.         0.\n",
      "  0.01921821 0.00179823 0.         0.06743383 0.         0.\n",
      "  0.         0.         0.         0.         0.         0.02070962\n",
      "  0.         0.16105434 0.10445621 0.09048198 0.19039047 0.05510157\n",
      "  0.         0.         0.14281134 0.13394767 0.01818564 0.\n",
      "  0.         0.        ]\n",
      " [0.04553211 0.         0.08770423 0.2573813  0.         0.\n",
      "  0.01921821 0.00179823 0.         0.06743383 0.         0.\n",
      "  0.         0.         0.         0.         0.         0.02070962\n",
      "  0.         0.16105434 0.10445621 0.09048198 0.19039047 0.05510157\n",
      "  0.         0.         0.14281134 0.13394767 0.01818564 0.\n",
      "  0.         0.        ]\n",
      " [0.04553211 0.         0.08770423 0.2573813  0.         0.\n",
      "  0.01921821 0.00179823 0.         0.06743383 0.         0.\n",
      "  0.         0.         0.         0.         0.         0.02070962\n",
      "  0.         0.16105434 0.10445621 0.09048198 0.19039047 0.05510157\n",
      "  0.         0.         0.14281134 0.13394767 0.01818564 0.\n",
      "  0.         0.        ]], shape=(3, 32), dtype=float32)\n"
     ]
    }
   ],
   "source": [
    "mlp = MLPBlock()\n",
    "one = tf.ones(shape=(3, 64)) # 3个特征，每个特征是 64位\n",
    "mlp_model = tf.keras.Sequential([mlp])\n",
    "y = mlp_model(one)  # The first call to the `mlp` will create the weights"
   ]
  },
  {
   "cell_type": "code",
   "execution_count": 96,
   "id": "58629ba8c0abb764",
   "metadata": {
    "ExecuteTime": {
     "end_time": "2024-05-24T08:13:54.037434Z",
     "start_time": "2024-05-24T08:13:53.988136Z"
    },
    "collapsed": false
   },
   "outputs": [
    {
     "name": "stdout",
     "output_type": "stream",
     "text": [
      "Model: \"sequential_8\"\n",
      "_________________________________________________________________\n",
      " Layer (type)                Output Shape              Param #   \n",
      "=================================================================\n",
      " mlp_block_15 (MLPBlock)     (3, 1)                    3169      \n",
      "                                                                 \n",
      "=================================================================\n",
      "Total params: 3169 (12.38 KB)\n",
      "Trainable params: 3169 (12.38 KB)\n",
      "Non-trainable params: 0 (0.00 Byte)\n",
      "_________________________________________________________________\n"
     ]
    }
   ],
   "source": [
    "# 这里我们能发现，这个层的接口，中间嵌套了一些 layer，这个 model 是追踪不到的\n",
    "mlp_model.summary()"
   ]
  },
  {
   "cell_type": "code",
   "execution_count": 98,
   "id": "54573807512963f",
   "metadata": {
    "ExecuteTime": {
     "end_time": "2024-05-24T08:19:40.524040Z",
     "start_time": "2024-05-24T08:19:40.502386Z"
    },
    "collapsed": false
   },
   "outputs": [
    {
     "name": "stdout",
     "output_type": "stream",
     "text": [
      "mlp_block_15/linear_49/Variable:0 (64, 32)\n",
      "mlp_block_15/linear_49/Variable:0 (32,)\n",
      "mlp_block_15/linear_50/Variable:0 (32, 32)\n",
      "mlp_block_15/linear_50/Variable:0 (32,)\n",
      "mlp_block_15/linear_51/Variable:0 (32, 1)\n",
      "mlp_block_15/linear_51/Variable:0 (1,)\n"
     ]
    }
   ],
   "source": [
    "# 我们看看权重相关细节\n",
    "for weight in mlp.weights:\n",
    "    print(weight.name, weight.shape)"
   ]
  },
  {
   "cell_type": "markdown",
   "id": "33951a64a9fcda92",
   "metadata": {
    "collapsed": false
   },
   "source": [
    "## 对于层次模型的调用顺序\n",
    "也就是下面的代码的思考：\n",
    "### tf.one(shape=(3, 64)) 与 tf.keras.Input(shape=(64,)) 与 tf.keras.Input(shape=(3, 64))\n",
    "输入数据的形状：当你使用 tf.ones(shape=(3, 64)) 创建一个张量时，你得到的是一个形状为 (3, 64) 的张量，这意味着有 3 个样本，每个样本有 64 个特征。这是因为 TensorFlow（和大多数深度学习框架）通常期望数据的第一个维度是批次大小（即样本数量），剩下的维度是特征的维度。\n",
    "tf.keras.Input 的用法：当你定义一个模型输入层 tf.keras.Input((64,)) 时，你告诉框架期望的输入将是一个形状为 (None, 64) 的张量，其中 None 是一个占位符，代表任意大小的批次。这意味着模型期望每个输入样本有 64 个特征，并且可以接受任意数量的样本作为批次输入。\n",
    "特征数量的理解：对于 tf.keras.Input((3,64))，这会创建一个期望输入形状为 (None, 3, 64) 的模型。在这种情况下，你告诉模型每个样本实际上是一个形状为 (3, 64) 的二维数组，这可能代表一个有 3 个时间步长的序列，每个时间步长有 64 个特征，或者是其他类似的数据结构。这并不意味着有 3*64 个不同的特征，而是数据的结构更加复杂，比如时间序列数据、图像数据等。\n"
   ]
  },
  {
   "cell_type": "code",
   "execution_count": 101,
   "id": "897efb487fb36c63",
   "metadata": {
    "ExecuteTime": {
     "end_time": "2024-05-24T08:29:11.462766Z",
     "start_time": "2024-05-24T08:29:11.438209Z"
    },
    "collapsed": false
   },
   "outputs": [
    {
     "name": "stdout",
     "output_type": "stream",
     "text": [
      "MLPBlock __init__\n",
      "Linear __init__:32\n",
      "Linear __init__:32\n",
      "Linear __init__:1\n",
      "MLPBlock call: (None, 64)\n",
      "Linear build:(None, 64)\n",
      "Linear call:Tensor(\"Placeholder:0\", shape=(None, 64), dtype=float32)\n",
      "Linear build:(None, 32)\n",
      "Linear call:Tensor(\"mlp_block_18/Relu:0\", shape=(None, 32), dtype=float32)\n",
      "Linear build:(None, 32)\n",
      "Linear call:Tensor(\"mlp_block_18/Relu_1:0\", shape=(None, 32), dtype=float32)\n",
      "mlp_block_18/linear_58/Variable:0 (64, 32)\n",
      "mlp_block_18/linear_58/Variable:0 (32,)\n",
      "mlp_block_18/linear_59/Variable:0 (32, 32)\n",
      "mlp_block_18/linear_59/Variable:0 (32,)\n",
      "mlp_block_18/linear_60/Variable:0 (32, 1)\n",
      "mlp_block_18/linear_60/Variable:0 (1,)\n"
     ]
    }
   ],
   "source": [
    "mlp = MLPBlock()\n",
    "input = tf.keras.Input((64,))\n",
    "mlp(input)\n",
    "for weight in mlp.weights:\n",
    "    print(weight.name, weight.shape)"
   ]
  },
  {
   "cell_type": "code",
   "execution_count": 102,
   "id": "1389aa681dc4dc0f",
   "metadata": {
    "ExecuteTime": {
     "end_time": "2024-05-24T08:29:45.530565Z",
     "start_time": "2024-05-24T08:29:45.512175Z"
    },
    "collapsed": false
   },
   "outputs": [
    {
     "name": "stdout",
     "output_type": "stream",
     "text": [
      "MLPBlock __init__\n",
      "Linear __init__:32\n",
      "Linear __init__:32\n",
      "Linear __init__:1\n",
      "MLPBlock call: (None, 3, 64)\n",
      "Linear build:(None, 3, 64)\n",
      "Linear call:Tensor(\"Placeholder:0\", shape=(None, 3, 64), dtype=float32)\n",
      "Linear build:(None, 3, 32)\n",
      "Linear call:Tensor(\"mlp_block_19/Relu:0\", shape=(None, 3, 32), dtype=float32)\n",
      "Linear build:(None, 3, 32)\n",
      "Linear call:Tensor(\"mlp_block_19/Relu_1:0\", shape=(None, 3, 32), dtype=float32)\n",
      "mlp_block_19/linear_61/Variable:0 (64, 32)\n",
      "mlp_block_19/linear_61/Variable:0 (32,)\n",
      "mlp_block_19/linear_62/Variable:0 (32, 32)\n",
      "mlp_block_19/linear_62/Variable:0 (32,)\n",
      "mlp_block_19/linear_63/Variable:0 (32, 1)\n",
      "mlp_block_19/linear_63/Variable:0 (1,)\n"
     ]
    }
   ],
   "source": [
    "mlp = MLPBlock()\n",
    "input = tf.keras.Input((3, 64))\n",
    "mlp(input)\n",
    "for weight in mlp.weights:\n",
    "    print(weight.name, weight.shape)"
   ]
  },
  {
   "cell_type": "markdown",
   "id": "7bef3cc149bdcc7c",
   "metadata": {
    "collapsed": false
   },
   "source": []
  }
 ],
 "metadata": {
  "kernelspec": {
   "display_name": "Python 3 (ipykernel)",
   "language": "python",
   "name": "python3"
  },
  "language_info": {
   "codemirror_mode": {
    "name": "ipython",
    "version": 3
   },
   "file_extension": ".py",
   "mimetype": "text/x-python",
   "name": "python",
   "nbconvert_exporter": "python",
   "pygments_lexer": "ipython3",
   "version": "3.8.18"
  }
 },
 "nbformat": 4,
 "nbformat_minor": 5
}
