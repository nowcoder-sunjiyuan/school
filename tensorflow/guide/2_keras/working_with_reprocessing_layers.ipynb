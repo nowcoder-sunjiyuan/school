{
 "cells": [
  {
   "cell_type": "code",
   "execution_count": 1,
   "id": "initial_id",
   "metadata": {
    "collapsed": true,
    "ExecuteTime": {
     "end_time": "2024-05-26T03:02:40.584574700Z",
     "start_time": "2024-05-26T03:02:38.693169600Z"
    }
   },
   "outputs": [],
   "source": [
    "import tensorflow as tf\n",
    "from tensorflow import keras\n",
    "import tensorflow.keras.layers.experimental.preprocessing as layers"
   ]
  },
  {
   "cell_type": "markdown",
   "source": [
    "## StringLookUp\n",
    "StringLookup 和哈希函数在某种程度上确实有相似之处，因为它们都可以将输入映射到数字。然而，它们之间存在一些重要区别和独特之处：\n",
    "\n",
    "确定性：\n",
    "StringLookup 是确定性的，即相同的输入字符串将始终映射到相同的整数标识符。这对于深度学习模型的可重现性和稳定性非常重要。\n",
    "哈希函数在某种程度上是确定性的，但在某些情况下可能会发生碰撞，即不同的输入可能映射到相同的哈希值，这可能会导致信息丢失。\n",
    "可解释性：\n",
    "StringLookup 可以轻松地反向查找，即从整数标识符映射回原始字符串。这在需要理解模型输出时非常有用。\n",
    "哈希函数是单向的，通常不支持从哈希值反向查找回原始值。\n",
    "控制词汇表：\n",
    "StringLookup 允许你显式控制词汇表，可以指定要映射的字符串集合，以及如何处理未知词。\n",
    "哈希函数通常不提供对输入的控制，它会根据输入自动计算哈希值。\n",
    "处理未知词：\n",
    "StringLookup 允许你指定处理未知词的策略，例如将其映射到特定的标识符，这在处理新数据时非常有用。\n",
    "哈希函数无法处理未知词，因为它们只是将输入映射到固定长度的哈希值。\n",
    "总的来说，StringLookup 提供了更多的控制选项和功能，特别适用于处理文本数据时需要考虑词汇表、未知词处理和可解释性的情况。在深度学习模型中，通常会选择使用 StringLookup 来处理文本数据，因为它提供了更多的灵活性和可控性。"
   ],
   "metadata": {
    "collapsed": false
   },
   "id": "7130f1b5feebd9c2"
  },
  {
   "cell_type": "code",
   "outputs": [
    {
     "data": {
      "text/plain": "<tf.Tensor: shape=(2, 3), dtype=int64, numpy=\narray([[2, 4, 5],\n       [5, 1, 3]], dtype=int64)>"
     },
     "execution_count": 2,
     "metadata": {},
     "output_type": "execute_result"
    }
   ],
   "source": [
    "## 显式的指定词汇表\n",
    "vocab = [\"a\", \"b\", \"c\", \"d\"]\n",
    "data = tf.constant([[\"a\", \"c\", \"d\"], [\"d\", \"z\", \"b\"]])\n",
    "layer = layers.StringLookup(vocabulary=vocab)\n",
    "layer(data)"
   ],
   "metadata": {
    "collapsed": false,
    "ExecuteTime": {
     "end_time": "2024-05-26T03:02:40.630863100Z",
     "start_time": "2024-05-26T03:02:40.584574700Z"
    }
   },
   "id": "a440f051bc201c36",
   "execution_count": 2
  },
  {
   "cell_type": "code",
   "outputs": [
    {
     "data": {
      "text/plain": "<tf.Tensor: shape=(2, 3), dtype=int64, numpy=\narray([[1, 1, 1],\n       [1, 1, 1]], dtype=int64)>"
     },
     "execution_count": 3,
     "metadata": {},
     "output_type": "execute_result"
    }
   ],
   "source": [
    "layer = layers.StringLookup()\n",
    "layer(data)"
   ],
   "metadata": {
    "collapsed": false,
    "ExecuteTime": {
     "end_time": "2024-05-26T03:02:40.630863100Z",
     "start_time": "2024-05-26T03:02:40.614920300Z"
    }
   },
   "id": "6be15f26c186aeeb",
   "execution_count": 3
  },
  {
   "cell_type": "code",
   "outputs": [
    {
     "name": "stdout",
     "output_type": "stream",
     "text": [
      "Model: \"model\"\n",
      "_________________________________________________________________\n",
      "Layer (type)                 Output Shape              Param #   \n",
      "=================================================================\n",
      "input_1 (InputLayer)         [(None, 64)]              0         \n",
      "_________________________________________________________________\n",
      "CTR (Dense)                  (None, 1)                 65        \n",
      "=================================================================\n",
      "Total params: 65\n",
      "Trainable params: 65\n",
      "Non-trainable params: 0\n",
      "_________________________________________________________________\n"
     ]
    }
   ],
   "source": [
    "ctr_hidden = keras.Input(shape=(64,))\n",
    "layer = keras.layers.Dense(1, activation=keras.activations.sigmoid, name=\"CTR\")\n",
    "ctr_logit = layer(ctr_hidden)\n",
    "my_functional_model = tf.keras.Model(inputs=ctr_hidden, outputs=ctr_logit)\n",
    "my_functional_model.summary()"
   ],
   "metadata": {
    "collapsed": false,
    "ExecuteTime": {
     "end_time": "2024-05-26T03:02:40.667879400Z",
     "start_time": "2024-05-26T03:02:40.631864100Z"
    }
   },
   "id": "e80734298a6be650",
   "execution_count": 4
  }
 ],
 "metadata": {
  "kernelspec": {
   "display_name": "Python 3",
   "language": "python",
   "name": "python3"
  },
  "language_info": {
   "codemirror_mode": {
    "name": "ipython",
    "version": 2
   },
   "file_extension": ".py",
   "mimetype": "text/x-python",
   "name": "python",
   "nbconvert_exporter": "python",
   "pygments_lexer": "ipython2",
   "version": "2.7.6"
  }
 },
 "nbformat": 4,
 "nbformat_minor": 5
}
