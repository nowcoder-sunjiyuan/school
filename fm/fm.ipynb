{
 "cells": [
  {
   "cell_type": "code",
   "execution_count": 59,
   "id": "initial_id",
   "metadata": {
    "collapsed": true,
    "ExecuteTime": {
     "end_time": "2024-02-27T00:36:01.082134700Z",
     "start_time": "2024-02-27T00:36:01.078134400Z"
    }
   },
   "outputs": [
    {
     "data": {
      "text/plain": "<IPython.core.display.Javascript object>",
      "application/javascript": "IPython.OutputArea.prototype._should_scroll = function(){return true}  // 设置不出现滑动窗口 true, auto, false\n"
     },
     "metadata": {},
     "output_type": "display_data"
    }
   ],
   "source": [
    "%%javascript\n",
    "IPython.OutputArea.prototype._should_scroll = function(){return true}  // 设置不出现滑动窗口 true, auto, false"
   ]
  },
  {
   "cell_type": "code",
   "outputs": [],
   "source": [
    "### https://github.com/garfieldsun/recsys/blob/master/FM/FM_numpy.ipynb\n",
    "import numpy as np\n",
    "from random import normalvariate"
   ],
   "metadata": {
    "collapsed": false,
    "ExecuteTime": {
     "end_time": "2024-02-27T00:36:01.114838200Z",
     "start_time": "2024-02-27T00:36:01.085134500Z"
    }
   },
   "id": "dbc81c020a2e3485",
   "execution_count": 60
  },
  {
   "cell_type": "code",
   "execution_count": 61,
   "outputs": [
    {
     "name": "stdout",
     "output_type": "stream",
     "text": [
      "(5, 8)\n"
     ]
    }
   ],
   "source": [
    "data = np.array([[6,148,72,35,0,33.6,0.627,50],\n",
    "                 [1,85,66,29,0,26.6,0.351,31],\n",
    "                 [8,183,64,0,0,23.3,0.672,32],\n",
    "                 [1,89,66,23,94,28.1,0.167,21],\n",
    "                 [0,137,40,35,168,43.1,2.288,33]])\n",
    "label=np.array([1,0,1,0,1])\n",
    "print(data.shape)"
   ],
   "metadata": {
    "collapsed": false,
    "ExecuteTime": {
     "end_time": "2024-02-27T00:36:01.115854300Z",
     "start_time": "2024-02-27T00:36:01.099458400Z"
    }
   },
   "id": "f0d4993ce8b002f0"
  },
  {
   "cell_type": "code",
   "outputs": [],
   "source": [
    "def sigmoid(inx):\n",
    "    return 1.0 / (1 + np.exp(-inx))"
   ],
   "metadata": {
    "collapsed": false,
    "ExecuteTime": {
     "end_time": "2024-02-27T00:36:01.135281200Z",
     "start_time": "2024-02-27T00:36:01.113811200Z"
    }
   },
   "id": "4ef90a5d199a4a4c",
   "execution_count": 62
  },
  {
   "cell_type": "code",
   "outputs": [
    {
     "name": "stdout",
     "output_type": "stream",
     "text": [
      "[0. 0. 0. 0. 0. 0. 0. 0.]\n",
      "[[1. 1. 1.]\n",
      " [1. 1. 1.]\n",
      " [1. 1. 1.]\n",
      " [1. 1. 1.]\n",
      " [1. 1. 1.]\n",
      " [1. 1. 1.]\n",
      " [1. 1. 1.]\n",
      " [1. 1. 1.]]\n",
      "[[-0.19393362 -0.19393362 -0.19393362]\n",
      " [-0.19393362 -0.19393362 -0.19393362]\n",
      " [-0.19393362 -0.19393362 -0.19393362]\n",
      " [-0.19393362 -0.19393362 -0.19393362]\n",
      " [-0.19393362 -0.19393362 -0.19393362]\n",
      " [-0.19393362 -0.19393362 -0.19393362]\n",
      " [-0.19393362 -0.19393362 -0.19393362]\n",
      " [-0.19393362 -0.19393362 -0.19393362]]\n"
     ]
    }
   ],
   "source": [
    "def fit(data, alpha=0.01, k=3, iter_num=20):\n",
    "    \"\"\"alpha为学习率，k为v的隐特征数，iter_num为迭代次数初始化所需要的参数\"\"\"\n",
    "    m,n = data.shape    #m为样本个数，n为特征个数 5 * 8\n",
    "    w = np.zeros(n)\n",
    "    print(w)\n",
    "    w_0 = 0.\n",
    "    # 随机数×构造的特征向量\n",
    "    v = normalvariate(0, 0.2) * np.ones((n, k)) # 8 * 3, 每个特征对应的向量，交叉特征就是，不同行数相乘\n",
    "    # 每轮每个样本\n",
    "    for it in range(iter_num):\n",
    "        for x in range(m):\n",
    "            '''前向传播得到预测值'''\n",
    "            inter_1 = data[x].dot(v)\n",
    "            inter_2 = np.multiply(data[x],data[x]).dot((np.multiply(v,v)))\n",
    "            interaction =np.sum(inter_1*inter_1-inter_2)/2\n",
    "            p = w_0+ w.dot(data[x])+interaction\n",
    "            print('预测值：',p)\n",
    "\n",
    "            '''损失函数'''\n",
    "            loss = sigmoid(label[x]*p)-1\n",
    "\n",
    "            '''随机梯度下降，得到各个权重'''\n",
    "            w_0 = w_0 - alpha*loss*label[0]   \n",
    "            for i in range(n):\n",
    "                if data[x, i] != 0:\n",
    "                    w[i] = w[i] - alpha*loss*label[0]*data[0][i]     \n",
    "                    for j in range(k):\n",
    "                        v[i,j]=v[i,j]-alpha*loss*label[0]*(data[0][i]*(inter_1[j])-v[i,j]*data[0][i]*data[0][i])\n",
    "    return w_0,w,v\n",
    "w_0,w,v=fit(data)"
   ],
   "metadata": {
    "collapsed": false,
    "ExecuteTime": {
     "end_time": "2024-02-27T00:36:01.145538400Z",
     "start_time": "2024-02-27T00:36:01.131195900Z"
    }
   },
   "id": "a5d2899dc402e176",
   "execution_count": 63
  },
  {
   "cell_type": "code",
   "outputs": [
    {
     "name": "stdout",
     "output_type": "stream",
     "text": [
      "w_0:0.0\n",
      " w:[0. 0. 0. 0. 0. 0. 0. 0.]\n",
      " v:[[-0.19393362 -0.19393362 -0.19393362]\n",
      " [-0.19393362 -0.19393362 -0.19393362]\n",
      " [-0.19393362 -0.19393362 -0.19393362]\n",
      " [-0.19393362 -0.19393362 -0.19393362]\n",
      " [-0.19393362 -0.19393362 -0.19393362]\n",
      " [-0.19393362 -0.19393362 -0.19393362]\n",
      " [-0.19393362 -0.19393362 -0.19393362]\n",
      " [-0.19393362 -0.19393362 -0.19393362]]\n"
     ]
    }
   ],
   "source": [
    "print('w_0:{}\\n w:{}\\n v:{}'.format(w_0,w,v))"
   ],
   "metadata": {
    "collapsed": false,
    "ExecuteTime": {
     "end_time": "2024-02-27T00:36:01.186456400Z",
     "start_time": "2024-02-27T00:36:01.144537900Z"
    }
   },
   "id": "4361706d424abb0e",
   "execution_count": 64
  }
 ],
 "metadata": {
  "kernelspec": {
   "display_name": "Python 3",
   "language": "python",
   "name": "python3"
  },
  "language_info": {
   "codemirror_mode": {
    "name": "ipython",
    "version": 2
   },
   "file_extension": ".py",
   "mimetype": "text/x-python",
   "name": "python",
   "nbconvert_exporter": "python",
   "pygments_lexer": "ipython2",
   "version": "2.7.6"
  }
 },
 "nbformat": 4,
 "nbformat_minor": 5
}
